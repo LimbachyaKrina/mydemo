{
 "cells": [
  {
   "cell_type": "code",
   "execution_count": null,
   "metadata": {},
   "outputs": [],
   "source": [
    "for x in range(1,101):\n",
    "    for y in range(1,101):\n",
    "        if((x**2)-2*(y**2))==1:\n",
    "            print('x=',x,'y=',y)"
   ]
  },
  {
   "cell_type": "code",
   "execution_count": null,
   "metadata": {},
   "outputs": [],
   "source": [
    "#wap that gives an amount of change for 1 dollar and it prints out exactly the denomination that will be needed for change"
   ]
  },
  {
   "cell_type": "code",
   "execution_count": null,
   "metadata": {},
   "outputs": [],
   "source": [
    "#quarter=25cents, dime=10cents, nickel=5 cents, penny=1cent"
   ]
  },
  {
   "cell_type": "code",
   "execution_count": 20,
   "metadata": {},
   "outputs": [
    {
     "name": "stdout",
     "output_type": "stream",
     "text": [
      "enter the number:0.72\n",
      "quarter= 2 dime= 2 nickel= 0 penny= 2\n"
     ]
    }
   ],
   "source": [
    "money=float(input(\"enter the number:\"))\n",
    "money=money*100\n",
    "quarter=25\n",
    "dime=10\n",
    "nickel=5\n",
    "penny=1\n",
    "cquarter,cdime,cnickel,cpenny=0,0,0,0\n",
    "if(money<100):\n",
    "    while money>0:\n",
    "        if(money>=25):\n",
    "            money=money-25\n",
    "            cquarter+=1\n",
    "        elif(money>=10):\n",
    "            money=money-10\n",
    "            cdime+=1\n",
    "        elif money>=5:\n",
    "            money=money-5\n",
    "            cnickel+=1\n",
    "        elif( money>=1):\n",
    "            cpenny=int(money)\n",
    "            money=0\n",
    "        else:\n",
    "            break\n",
    "    print('quarter=',cquarter,'dime=',cdime,'nickel=',cnickel,'penny=',cpenny) \n",
    "else:\n",
    "    print('enter appropriate number')"
   ]
  },
  {
   "cell_type": "code",
   "execution_count": null,
   "metadata": {},
   "outputs": [],
   "source": [
    "#suppose you put 1rs in bank on monday and everyday from next day (tue to sun), you put in 1 rs more than the day before\n",
    "#and on every subsequent monday, you will put in 1 rs more than the previous monday, if have number n, find total amount of money you will have in the bank at the end of nth day "
   ]
  },
  {
   "cell_type": "code",
   "execution_count": 27,
   "metadata": {},
   "outputs": [
    {
     "name": "stdout",
     "output_type": "stream",
     "text": [
      "enter number of days: 1\n",
      "you have 1 rs in your account after 1 days\n"
     ]
    }
   ],
   "source": [
    "n=int(input('enter number of days: '))\n",
    "amount=0\n",
    "mondayamount=0\n",
    "for i in range(0,n):\n",
    "    if i%7==0:\n",
    "        mondayamount+=1\n",
    "        amount=amount+mondayamount\n",
    "    elif(i%7==1):\n",
    "         repeatedamount=mondayamount+1\n",
    "         amount=amount+repeatedamount\n",
    "    else:\n",
    "        repeatedamount=repeatedamount+1\n",
    "        amount=amount+(repeatedamount)\n",
    "print('you have',amount,'rs in your account after',n,'days')"
   ]
  },
  {
   "cell_type": "code",
   "execution_count": 31,
   "metadata": {},
   "outputs": [],
   "source": [
    "# #ask user for 10 test scores \n",
    "# print avg of scores\n",
    "# print second largest score\n",
    "# if any score is greater than 100, then after all scores have been entered, print a mssg warning that a value over 100 has been enete\n",
    "# drop the lowest 2 scores and print average of rest of them"
   ]
  },
  {
   "cell_type": "code",
   "execution_count": 42,
   "metadata": {},
   "outputs": [
    {
     "name": "stdout",
     "output_type": "stream",
     "text": [
      "enter test score: 100\n",
      "enter test score: 100\n",
      "enter test score: 20\n",
      "enter test score: 30\n",
      "enter test score: 40\n",
      "enter test score: 100\n",
      "enter test score: 100\n",
      "enter test score: 10\n",
      "enter test score: 100\n",
      "enter test score: 100\n",
      "70.0\n",
      "100 100\n",
      "500\n"
     ]
    }
   ],
   "source": [
    "def take():\n",
    "    score=int(input(\"enter test score: \"))\n",
    "    return score\n",
    "s1=take()\n",
    "s2=take()\n",
    "s3=take()\n",
    "s4=take()\n",
    "s5=take()\n",
    "s6=take()\n",
    "s7=take()\n",
    "s8=take()\n",
    "s9=take()\n",
    "s10=take()\n",
    "total=(s1+s2+s3+s4+s5+s6+s7+s8+s9+s10)\n",
    "avg=total/10\n",
    "print(avg)\n",
    "def min(*vargs):\n",
    "    global s1\n",
    "    global total\n",
    "    max=s1\n",
    "    for i in vargs:\n",
    "        if i>max:\n",
    "            pass\n",
    "        elif i==max:\n",
    "            max=i\n",
    "    return i\n",
    "i=min(s1,s2,s3,s4,s5,s6,s7,s8,s9,s10)\n",
    "if(s1==i):\n",
    "    a=min(s2,s3,s4,s5,s6,s7,s8,s9,s10)\n",
    "elif (s2==i):\n",
    "    a=min(s1,s3,s4,s5,s6,s7,s8,s9,s10)\n",
    "elif (s3==i):\n",
    "    a=min(s1,s2,s4,s5,s6,s7,s8,s9,s10)\n",
    "elif (s4==i):\n",
    "    a=min(s1,s3,s2,s5,s6,s7,s8,s9,s10)\n",
    "elif (s5==i):\n",
    "    a=min(s1,s3,s4,s2,s6,s7,s8,s9,s10)\n",
    "elif (s6==i):\n",
    "    a=min(s1,s3,s4,s5,s2,s7,s8,s9,s10)\n",
    "elif (s7==i):\n",
    "    a=min(s1,s3,s4,s5,s6,s2,s8,s9,s10)\n",
    "elif (s8==i):\n",
    "    a=min(s1,s3,s4,s5,s6,s7,s2,s9,s10)\n",
    "elif (s9==i):\n",
    "    a=min(s1,s3,s4,s5,s6,s7,s8,s2,s10)\n",
    "elif (s10==i):\n",
    "    a=min(s1,s3,s4,s5,s6,s7,s8,s9,s2)\n",
    "print(a,i)\n",
    "total=total-(a+i)\n",
    "avg2=total/8\n",
    "print(total)"
   ]
  }
 ],
 "metadata": {
  "kernelspec": {
   "display_name": "Python 3",
   "language": "python",
   "name": "python3"
  },
  "language_info": {
   "codemirror_mode": {
    "name": "ipython",
    "version": 3
   },
   "file_extension": ".py",
   "mimetype": "text/x-python",
   "name": "python",
   "nbconvert_exporter": "python",
   "pygments_lexer": "ipython3",
   "version": "3.8.5"
  }
 },
 "nbformat": 4,
 "nbformat_minor": 4
}
