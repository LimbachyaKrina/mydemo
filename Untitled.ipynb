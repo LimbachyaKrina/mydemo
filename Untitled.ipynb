{
 "cells": [
  {
   "cell_type": "code",
   "execution_count": 1,
   "metadata": {},
   "outputs": [],
   "source": [
    "# Dictionary\n",
    "# value will always in pair 1st will be key and another will be value and together they are called item\n",
    "# keys of dictionary are not mutable so cannot use a list in place of list\n",
    "# you can only use key as immutable datatype\n",
    "# dictionary is mutable\n",
    "# keys are always unique \n",
    "# it won't give any error but the last key will be consider, as it will overwrite the previous one\n",
    "# d = {'name': 'BCA','college': 'lj','sem':3,'subjects':{'fsd':20,'ps':5}} nested dictionary\n",
    "# values cannot be access directly without the permission of key value cannot be accessed\n",
    "# for i in d:\n",
    "#    print(i) this will give keys\n",
    "#  print('name' in d) this will give true\n",
    "#  print('BCA' in d) this will give false as it is a value\n",
    "# it is heterogenous \n",
    "# print(d[name]) you have to pass the key here to access the value, you have to write key as it is if this key is not \n",
    "# present then it will give key error\n",
    "# print(d['subjects']['fsd']) \n",
    "# print(d.get('name')) this will not any error this can also return a value like wise the default value that we have given\n",
    "# print(d.get('Name','XYS')) \"XYS\" will be the return value \n",
    "# d[3] = 8 this can change the value present in the given key\n",
    "# d1 = {1:2,2:3,4:5} d2 = {4:7,8:3} d1.update(d2) print(d2) this will update the existing dictionary with the\n",
    "# dictionary that we have given as arguments\n",
    "# for i in d.values():\n",
    "#     print(i) this will print value\n",
    "# for i in d.keys():\n",
    "#     print(i) this will print value\n",
    "# for i,j in d.items():\n",
    "#     print(i,j)"
   ]
  },
  {
   "cell_type": "code",
   "execution_count": null,
   "metadata": {},
   "outputs": [],
   "source": [
    "name = input(\"Enter : \")\n",
    "key = int(input(\"Enter : \"))\n",
    "for i in range(key):\n",
    "    store = name[key]\n",
    "print(store)"
   ]
  },
  {
   "cell_type": "code",
   "execution_count": null,
   "metadata": {},
   "outputs": [],
   "source": [
    "# give an integer value and return a string with the equivalent english text of the given number \n",
    "# values should be between 0 to 1000\n",
    "d = {1:'one',2:'two',3:'three',4:'four',5:'five',6:'six',7:'seven',8:'eight',9:'nine',10:'ten',\n",
    "        11:'eleven',12:'twelve',13:'thirteen',14:'fourteen',15:'fifteen',16:'sixteen',17:'seventeen',\n",
    "       18:'eighteen',19:'nineteen',20:'twenty',30:'thirty',40:'forty',50:'fifty',60:'sixty',70:'seventy',\n",
    "       80:'eighty',90:'ninety'}\n",
    "def int_to(num):\n",
    "    if num >= 0 and num <= 20:\n",
    "        return d[num]\n",
    "    elif num >20 and num < 100:\n",
    "        if num%10 != 0:\n",
    "            return d[num//10*10]+'-'+d[num%10]\n",
    "        else:\n",
    "            return d[num]\n",
    "    elif num >= 100 and num < 1000:\n",
    "        if num%100 == 0:\n",
    "            return d[num//100] + '-'+'Hundred'\n",
    "        else:\n",
    "            return d[num//100]+'-Hundred-'+int_to(num%100)\n",
    "    else:\n",
    "        print(\"Enter num between 0 to 1000\")\n",
    "num = int(input(\"Enter number : \"))\n",
    "int_to(num)"
   ]
  },
  {
   "cell_type": "code",
   "execution_count": 6,
   "metadata": {},
   "outputs": [],
   "source": [
    "# setdefault() if that key is not present then it will create a new key with the default value. But if the key is present\n",
    "# then it will give that value and will not change the presented value\n",
    "# d = {1:3,2:4,3:5}\n",
    "#  d.setdefault(3,8) d.setdefault(5,10) print(d)\n",
    "# formkeys(): it will help to form \n",
    "# l1 = [1,2,3,4]\n",
    "# l2 = ['k','r','i','n']\n",
    "# d = dict.fromkeys(l1,l2)\n",
    "# print(d)   {1: ['k', 'r', 'i', 'n'], 2: ['k', 'r', 'i', 'n'], 3: ['k', 'r', 'i', 'n'], 4: ['k', 'r', 'i', 'n']}\n",
    "# x = (1,2,3)\n",
    "# y = 10\n",
    "# d = dict.fromkeys(x,y)\n",
    "# print(d)   {1: 10, 2: 10, 3: 10}\n",
    "# the variable that we pass in the value argument will be assigned to every key\n",
    "# d = {i: i*2 for i in range(1,10)}\n",
    "# print(d)      {1: 2, 2: 4, 3: 6, 4: 8, 5: 10, 6: 12, 7: 14, 8: 16, 9: 18}\n",
    "# d1 = {'A':10,\"b\":0,'c':25,'d':0}\n",
    "# d = {key:value for key, value in d1.items() if value > 0}\n",
    "# print(d)     {'A': 10, 'c': 25}"
   ]
  },
  {
   "cell_type": "code",
   "execution_count": 19,
   "metadata": {},
   "outputs": [
    {
     "name": "stdout",
     "output_type": "stream",
     "text": [
      "Enter any string :  This is a good morning to start learning new language to gain momentum\n",
      "{'This': 1, 'is': 1, 'a': 1, 'good': 1, 'morning': 1, 'to': 2, 'start': 1, 'learning': 1, 'new': 1, 'language': 1, 'gain': 1, 'momentum': 1}\n"
     ]
    }
   ],
   "source": [
    "# WAP to calculate the frequency of particular words used in a string\n",
    "name = input(\"Enter any string : \")\n",
    "d = {}\n",
    "for i in name.split():\n",
    "    d[i] = d.get(i,0) + 1\n",
    "print(d)"
   ]
  },
  {
   "cell_type": "code",
   "execution_count": 8,
   "metadata": {},
   "outputs": [
    {
     "name": "stdout",
     "output_type": "stream",
     "text": [
      "Enter any string : This is a good morning to start learning new language to gain momentum\n",
      "[8, 8, 8, 7, 5, 4, 4, 4, 3, 2, 2, 2, 1]\n",
      "{'This': 4, 'is': 2, 'a': 1, 'good': 4, 'morning': 7, 'to': 2, 'start': 5, 'learning': 8, 'new': 3, 'language': 8, 'gain': 4, 'momentum': 8}\n",
      "[('This', 4), ('is', 2), ('a', 1), ('good', 4), ('morning', 7), ('to', 2), ('start', 5), ('learning', 8), ('new', 3), ('language', 8), ('gain', 4), ('momentum', 8)]\n"
     ]
    }
   ],
   "source": [
    "# You have a string of number of words. Sort a string of words such that words with the highest length are at the top'\n",
    "name = input(\"Enter any string : \")\n",
    "d = {}\n",
    "valist = []\n",
    "for i in name.split():\n",
    "    d[i] = len(i)\n",
    "    valist.append(len(i))\n",
    "valist.sort()\n",
    "valist.reverse()\n",
    "print(valist)\n",
    "print(d)\n",
    "l=list(d.items())\n",
    "print(l)"
   ]
  },
  {
   "cell_type": "code",
   "execution_count": 3,
   "metadata": {},
   "outputs": [
    {
     "ename": "KeyboardInterrupt",
     "evalue": "Interrupted by user",
     "output_type": "error",
     "traceback": [
      "\u001b[1;31m---------------------------------------------------------------------------\u001b[0m",
      "\u001b[1;31mKeyboardInterrupt\u001b[0m                         Traceback (most recent call last)",
      "\u001b[1;32m<ipython-input-3-c57ba32d925b>\u001b[0m in \u001b[0;36m<module>\u001b[1;34m\u001b[0m\n\u001b[1;32m----> 1\u001b[1;33m \u001b[0mname\u001b[0m \u001b[1;33m=\u001b[0m \u001b[0minput\u001b[0m\u001b[1;33m(\u001b[0m\u001b[1;34m\"Enter any string : \"\u001b[0m\u001b[1;33m)\u001b[0m\u001b[1;33m\u001b[0m\u001b[1;33m\u001b[0m\u001b[0m\n\u001b[0m\u001b[0;32m      2\u001b[0m \u001b[0mnewest\u001b[0m \u001b[1;33m=\u001b[0m \u001b[1;33m[\u001b[0m\u001b[1;33m]\u001b[0m\u001b[1;33m\u001b[0m\u001b[1;33m\u001b[0m\u001b[0m\n\u001b[0;32m      3\u001b[0m \u001b[1;32mfor\u001b[0m \u001b[0mi\u001b[0m \u001b[1;32min\u001b[0m \u001b[0mname\u001b[0m\u001b[1;33m.\u001b[0m\u001b[0msplit\u001b[0m\u001b[1;33m(\u001b[0m\u001b[1;33m)\u001b[0m\u001b[1;33m:\u001b[0m\u001b[1;33m\u001b[0m\u001b[1;33m\u001b[0m\u001b[0m\n\u001b[0;32m      4\u001b[0m     \u001b[0mnewest\u001b[0m\u001b[1;33m.\u001b[0m\u001b[0mappend\u001b[0m\u001b[1;33m(\u001b[0m\u001b[1;33m[\u001b[0m\u001b[0mlen\u001b[0m\u001b[1;33m(\u001b[0m\u001b[0mi\u001b[0m\u001b[1;33m)\u001b[0m\u001b[1;33m,\u001b[0m\u001b[0mi\u001b[0m\u001b[1;33m]\u001b[0m\u001b[1;33m)\u001b[0m\u001b[1;33m\u001b[0m\u001b[1;33m\u001b[0m\u001b[0m\n\u001b[0;32m      5\u001b[0m \u001b[0mnewest\u001b[0m\u001b[1;33m.\u001b[0m\u001b[0msort\u001b[0m\u001b[1;33m(\u001b[0m\u001b[1;33m)\u001b[0m\u001b[1;33m\u001b[0m\u001b[1;33m\u001b[0m\u001b[0m\n",
      "\u001b[1;32mC:\\ProgramData\\Anaconda3\\lib\\site-packages\\ipykernel\\kernelbase.py\u001b[0m in \u001b[0;36mraw_input\u001b[1;34m(self, prompt)\u001b[0m\n\u001b[0;32m    858\u001b[0m                 \u001b[1;34m\"raw_input was called, but this frontend does not support input requests.\"\u001b[0m\u001b[1;33m\u001b[0m\u001b[1;33m\u001b[0m\u001b[0m\n\u001b[0;32m    859\u001b[0m             )\n\u001b[1;32m--> 860\u001b[1;33m         return self._input_request(str(prompt),\n\u001b[0m\u001b[0;32m    861\u001b[0m             \u001b[0mself\u001b[0m\u001b[1;33m.\u001b[0m\u001b[0m_parent_ident\u001b[0m\u001b[1;33m,\u001b[0m\u001b[1;33m\u001b[0m\u001b[1;33m\u001b[0m\u001b[0m\n\u001b[0;32m    862\u001b[0m             \u001b[0mself\u001b[0m\u001b[1;33m.\u001b[0m\u001b[0m_parent_header\u001b[0m\u001b[1;33m,\u001b[0m\u001b[1;33m\u001b[0m\u001b[1;33m\u001b[0m\u001b[0m\n",
      "\u001b[1;32mC:\\ProgramData\\Anaconda3\\lib\\site-packages\\ipykernel\\kernelbase.py\u001b[0m in \u001b[0;36m_input_request\u001b[1;34m(self, prompt, ident, parent, password)\u001b[0m\n\u001b[0;32m    902\u001b[0m             \u001b[1;32mexcept\u001b[0m \u001b[0mKeyboardInterrupt\u001b[0m\u001b[1;33m:\u001b[0m\u001b[1;33m\u001b[0m\u001b[1;33m\u001b[0m\u001b[0m\n\u001b[0;32m    903\u001b[0m                 \u001b[1;31m# re-raise KeyboardInterrupt, to truncate traceback\u001b[0m\u001b[1;33m\u001b[0m\u001b[1;33m\u001b[0m\u001b[1;33m\u001b[0m\u001b[0m\n\u001b[1;32m--> 904\u001b[1;33m                 \u001b[1;32mraise\u001b[0m \u001b[0mKeyboardInterrupt\u001b[0m\u001b[1;33m(\u001b[0m\u001b[1;34m\"Interrupted by user\"\u001b[0m\u001b[1;33m)\u001b[0m \u001b[1;32mfrom\u001b[0m \u001b[1;32mNone\u001b[0m\u001b[1;33m\u001b[0m\u001b[1;33m\u001b[0m\u001b[0m\n\u001b[0m\u001b[0;32m    905\u001b[0m             \u001b[1;32mexcept\u001b[0m \u001b[0mException\u001b[0m \u001b[1;32mas\u001b[0m \u001b[0me\u001b[0m\u001b[1;33m:\u001b[0m\u001b[1;33m\u001b[0m\u001b[1;33m\u001b[0m\u001b[0m\n\u001b[0;32m    906\u001b[0m                 \u001b[0mself\u001b[0m\u001b[1;33m.\u001b[0m\u001b[0mlog\u001b[0m\u001b[1;33m.\u001b[0m\u001b[0mwarning\u001b[0m\u001b[1;33m(\u001b[0m\u001b[1;34m\"Invalid Message:\"\u001b[0m\u001b[1;33m,\u001b[0m \u001b[0mexc_info\u001b[0m\u001b[1;33m=\u001b[0m\u001b[1;32mTrue\u001b[0m\u001b[1;33m)\u001b[0m\u001b[1;33m\u001b[0m\u001b[1;33m\u001b[0m\u001b[0m\n",
      "\u001b[1;31mKeyboardInterrupt\u001b[0m: Interrupted by user"
     ]
    }
   ],
   "source": [
    "name = input(\"Enter any string : \")\n",
    "newest = []\n",
    "for i in name.split():\n",
    "    newest.append([len(i),i])\n",
    "newest.sort()\n",
    "newest.reverse()\n",
    "print([i[1] for i in newest])"
   ]
  },
  {
   "cell_type": "code",
   "execution_count": 15,
   "metadata": {},
   "outputs": [
    {
     "ename": "IndexError",
     "evalue": "list index out of range",
     "output_type": "error",
     "traceback": [
      "\u001b[1;31m---------------------------------------------------------------------------\u001b[0m",
      "\u001b[1;31mIndexError\u001b[0m                                Traceback (most recent call last)",
      "\u001b[1;32m<ipython-input-15-021777692490>\u001b[0m in \u001b[0;36m<module>\u001b[1;34m\u001b[0m\n\u001b[0;32m     19\u001b[0m     \u001b[0mli\u001b[0m \u001b[1;33m=\u001b[0m \u001b[0mtemp\u001b[0m\u001b[1;33m.\u001b[0m\u001b[0mcopy\u001b[0m\u001b[1;33m(\u001b[0m\u001b[1;33m)\u001b[0m\u001b[1;33m\u001b[0m\u001b[1;33m\u001b[0m\u001b[0m\n\u001b[0;32m     20\u001b[0m     \u001b[0mli\u001b[0m\u001b[1;33m.\u001b[0m\u001b[0mpop\u001b[0m\u001b[1;33m(\u001b[0m\u001b[0mi\u001b[0m\u001b[1;33m)\u001b[0m\u001b[1;33m\u001b[0m\u001b[1;33m\u001b[0m\u001b[0m\n\u001b[1;32m---> 21\u001b[1;33m     \u001b[0mcheck\u001b[0m\u001b[1;33m(\u001b[0m\u001b[0mli\u001b[0m\u001b[1;33m)\u001b[0m\u001b[1;33m\u001b[0m\u001b[1;33m\u001b[0m\u001b[0m\n\u001b[0m",
      "\u001b[1;32m<ipython-input-15-021777692490>\u001b[0m in \u001b[0;36mcheck\u001b[1;34m(li)\u001b[0m\n\u001b[0;32m      9\u001b[0m     \u001b[0mj\u001b[0m \u001b[1;33m=\u001b[0m \u001b[0mlength\u001b[0m \u001b[1;33m-\u001b[0m \u001b[1;36m2\u001b[0m\u001b[1;33m\u001b[0m\u001b[1;33m\u001b[0m\u001b[0m\n\u001b[0;32m     10\u001b[0m     \u001b[1;32mwhile\u001b[0m\u001b[1;33m(\u001b[0m\u001b[0mi\u001b[0m \u001b[1;33m!=\u001b[0m \u001b[1;36m0\u001b[0m\u001b[1;33m)\u001b[0m\u001b[1;33m:\u001b[0m\u001b[1;33m\u001b[0m\u001b[1;33m\u001b[0m\u001b[0m\n\u001b[1;32m---> 11\u001b[1;33m         \u001b[0moddSum\u001b[0m \u001b[1;33m+=\u001b[0m \u001b[0mli\u001b[0m\u001b[1;33m[\u001b[0m\u001b[0mi\u001b[0m\u001b[1;33m]\u001b[0m\u001b[1;33m\u001b[0m\u001b[1;33m\u001b[0m\u001b[0m\n\u001b[0m\u001b[0;32m     12\u001b[0m     \u001b[1;32mwhile\u001b[0m\u001b[1;33m(\u001b[0m\u001b[0mj\u001b[0m \u001b[1;33m!=\u001b[0m \u001b[1;36m0\u001b[0m\u001b[1;33m)\u001b[0m\u001b[1;33m:\u001b[0m\u001b[1;33m\u001b[0m\u001b[1;33m\u001b[0m\u001b[0m\n\u001b[0;32m     13\u001b[0m         \u001b[0mevenSum\u001b[0m \u001b[1;33m+=\u001b[0m \u001b[0mli\u001b[0m\u001b[1;33m[\u001b[0m\u001b[0mj\u001b[0m\u001b[1;33m]\u001b[0m\u001b[1;33m\u001b[0m\u001b[1;33m\u001b[0m\u001b[0m\n",
      "\u001b[1;31mIndexError\u001b[0m: list index out of range"
     ]
    }
   ],
   "source": [
    "# Given a list l of size n. You need to count the number of special elements in the given list. An element is special \n",
    "# if removal of that element makes the list balanced. The list will be balanced if some of even index element is equal \n",
    "# to the sum of odd index elements.\n",
    "li = [5,5,2,5,8]\n",
    "length = len(li)\n",
    "def check(li):\n",
    "    oddSum, evenSum, special = 0,0, 0\n",
    "    i = length - 1\n",
    "    j = length - 2\n",
    "    while(i != 0):\n",
    "        oddSum += li[i]\n",
    "    while(j != 0):\n",
    "        evenSum += li[j]\n",
    "    if(oddSum == evenSum):\n",
    "        special += 1 \n",
    "temp = li.copy()\n",
    "for i in range(length):\n",
    "    \n",
    "    li = temp.copy()\n",
    "    li.pop(i)\n",
    "    check(li)"
   ]
  }
 ],
 "metadata": {
  "kernelspec": {
   "display_name": "Python 3",
   "language": "python",
   "name": "python3"
  },
  "language_info": {
   "codemirror_mode": {
    "name": "ipython",
    "version": 3
   },
   "file_extension": ".py",
   "mimetype": "text/x-python",
   "name": "python",
   "nbconvert_exporter": "python",
   "pygments_lexer": "ipython3",
   "version": "3.8.5"
  }
 },
 "nbformat": 4,
 "nbformat_minor": 4
}
