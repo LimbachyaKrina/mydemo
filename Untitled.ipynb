{
 "cells": [
  {
   "cell_type": "code",
   "execution_count": 1,
   "metadata": {},
   "outputs": [],
   "source": [
    "s=\"Hello\"\n",
    "# print(s.lstrip()) will remove from the extreme left or right side\n",
    "# print(s.rstrip()) if the element is in the middle it will not trim anything and will give the output same as\n",
    "# print(s.strip()) default argument is space so it will remove the spaces at the left or right most extreme\n",
    "# print(s.maketrans('abc','123')) ---> it makes a dictionary like {'a':'1','b':'2','c':'3'} NOTE: Not like this but in \n",
    "# the form of ascii value.if we add 3rd argument it will remove that character from the string \n",
    "# print(s.translate(you have to pass an argument))  \n",
    "# positional argument "
   ]
  },
  {
   "cell_type": "code",
   "execution_count": 10,
   "metadata": {},
   "outputs": [
    {
     "name": "stdout",
     "output_type": "stream",
     "text": [
      "this is python\n",
      "this is pyth\n",
      "this is python\n",
      "this is pyth\n",
      "This is pythonnnnn\n",
      "      This is pytho\n",
      "Th1 1  python progrm\n",
      "{105: 49, 97: None, 115: None}\n"
     ]
    }
   ],
   "source": [
    "s='this is python'\n",
    "print(s.lstrip('Th'))\n",
    "print(s.rstrip('on'))\n",
    "print(s.rstrip('is'))\n",
    "print(s.strip('on'))\n",
    "s='      This is pythonnnnn'\n",
    "print(s.strip())\n",
    "print(s.strip('n'))\n",
    "s='This is a python program'\n",
    "new = s.maketrans('i','1','as')\n",
    "print(s.translate(new))\n",
    "print(new)\n",
    "# print(s.translate())"
   ]
  },
  {
   "cell_type": "code",
   "execution_count": 18,
   "metadata": {},
   "outputs": [
    {
     "name": "stdout",
     "output_type": "stream",
     "text": [
      "hi what is the weather like\n",
      "!\"#$%&'()*+,-./:;<=>?@[\\]^_`{|}~\n",
      "!hi. wha?t is the weat[h]er lik?e\n"
     ]
    }
   ],
   "source": [
    "import string\n",
    "a = '!hi. wha?t is the weat[h]er lik?e'\n",
    "print(a.translate(a.maketrans('','',string.punctuation)))\n",
    "# python do not consider space as special character or punctuation\n",
    "print(string.punctuation)\n",
    "print(a)"
   ]
  },
  {
   "cell_type": "code",
   "execution_count": null,
   "metadata": {},
   "outputs": [],
   "source": [
    "# Ceaser Cryptography\n",
    "# NOTE: chr(97) ord('A')\n",
    "incre,incre1,incrt = 0,0,0 \n",
    "enct = ' '\n",
    "value = input(\"Enter input : \")\n",
    "key = int(input(\"Enter the key : \")) \n",
    "for i in value:\n",
    "    count = ord(i)\n",
    "    incre = count + key\n",
    "    if(i.isupper()):\n",
    "        if(incre>90):\n",
    "            incr1 = incre%90\n",
    "            incrt = 64 + incr1\n",
    "            enc = chr(incrt)\n",
    "        else:\n",
    "            enc = chr(incre)\n",
    "    elif(i.islower()):\n",
    "        if(incre>122):\n",
    "            incre1 = incre%122\n",
    "            incrt = 96 + incre1\n",
    "            enc = chr(incrt)\n",
    "        else:\n",
    "            enc = chr(incre)\n",
    "    enct += enc\n",
    "print(enct)"
   ]
  },
  {
   "cell_type": "code",
   "execution_count": 44,
   "metadata": {},
   "outputs": [],
   "source": [
    "# Tuples \n",
    "# Heterogeneous data structure also like list it can store different type of data type\n",
    "# List is mutuable just like dynamic array type structure\n",
    "# It is ordered data structure, if i want to extract any thing from the tuple i have to follow the indexing\n",
    "# Tuples and String are immutuable\n",
    "# t1 = ('hello') this is not a tuple\n",
    "# t1 = ('hello,') this is tuple\n",
    "# t2 = (1,2,3) Tuple\n",
    "# t3 = (2) this is not a tuple\n",
    "# t3 = (2,) this is tuple\n",
    "# (1,2,3) == (3,2,1) False as it will compare according to the index\n",
    "# t4 = 4,5,6,'ABC'\n",
    "# print(type(t4)) this is a tuple \n",
    "# Item assignment is not allowed like : t = (1,2,3) t[1] = 6 Not allowed\n",
    "# t = (1,3,4,1,1,2,6,5,8)\n",
    "# print(t[3]) if single arg then it will give value in integer\n",
    "# print(t[2:6]) if there are more than one arg then it will give value in the form of tuple\n",
    "# print(t[-1:-5:-1])\n",
    "# t2 = (23,4,5,6,1,7)\n",
    "# print(t+t2)\n",
    "# print(t*2)\n",
    "# we can work loop on ordered data structures\n",
    "# loop will work in set also but you don't know how it will work\n",
    "# (1,2,'A') < (1,2,'a') True\n",
    "# ('V',2,'A') > (1,2,'A') Error : typeError as Ingeters does not have any ascii value\n",
    "# len\n",
    "# max it will give error if the datatype of the elements will be different same as min and in sorted also\n",
    "# sorted gives answer always in the form of list \n",
    "# t = tuple(range(1,31))\n",
    "# t = tuple('Hello') == ('h','e','l','l','o')\n",
    "# t = tuple([1,2,3,4])\n",
    "# t = tuple(1,2,[5,6,7])  t[2][0] = 6 can be done\n",
    "# count\n",
    "# index : error if not present find will not give error\n",
    "# sum if all are integers or float or will not work\n",
    "# a,b,c = (1,2,3) Tuple unpacking \n",
    "# a,b = (1,2,3) Error\n",
    "# a,b,*c = (1,2,3,4,5,6,7) == a = 1 b = 2 c = [3,4,5,6,7]\n",
    "# *a,b,c = (1,2,3,4,5,6,7)\n",
    "# print(a)\n",
    "# print(b)\n",
    "# print(c)"
   ]
  },
  {
   "cell_type": "code",
   "execution_count": 47,
   "metadata": {},
   "outputs": [
    {
     "name": "stdout",
     "output_type": "stream",
     "text": [
      "Enter email idKrin@gmail.com\n",
      "Krin\n"
     ]
    }
   ],
   "source": [
    "# WAP to extract username from the given emailid\n",
    "email = input(\"Enter email id\")\n",
    "true = email.split('@')[0]\n",
    "print(true)"
   ]
  }
 ],
 "metadata": {
  "kernelspec": {
   "display_name": "Python 3",
   "language": "python",
   "name": "python3"
  },
  "language_info": {
   "codemirror_mode": {
    "name": "ipython",
    "version": 3
   },
   "file_extension": ".py",
   "mimetype": "text/x-python",
   "name": "python",
   "nbconvert_exporter": "python",
   "pygments_lexer": "ipython3",
   "version": "3.8.5"
  }
 },
 "nbformat": 4,
 "nbformat_minor": 4
}
