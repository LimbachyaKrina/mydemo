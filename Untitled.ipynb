{
 "cells": [
  {
   "cell_type": "code",
   "execution_count": 1,
   "metadata": {},
   "outputs": [],
   "source": [
    "# Dictionary\n",
    "# value will always in pair 1st will be key and another will be value and together they are called item\n",
    "# keys of dictionary are not mutable so cannot use a list in place of list\n",
    "# you can only use key as immutable datatype\n",
    "# dictionary is mutable\n",
    "# keys are always unique \n",
    "# it won't give any error but the last key will be consider, as it will overwrite the previous one\n",
    "# d = {'name': 'BCA','college': 'lj','sem':3,'subjects':{'fsd':20,'ps':5}} nested dictionary\n",
    "# values cannot be access directly without the permission of key value cannot be accessed\n",
    "# for i in d:\n",
    "#    print(i) this will give keys\n",
    "#  print('name' in d) this will give true\n",
    "#  print('BCA' in d) this will give false as it is a value\n",
    "# it is heterogenous \n",
    "# print(d[name]) you have to pass the key here to access the value, you have to write key as it is if this key is not \n",
    "# present then it will give key error\n",
    "# print(d['subjects']['fsd']) \n",
    "# print(d.get('name')) this will not any error this can also return a value like wise the default value that we have given\n",
    "# print(d.get('Name','XYS')) \"XYS\" will be the return value \n",
    "# d[3] = 8 this can change the value present in the given key\n",
    "# d1 = {1:2,2:3,4:5} d2 = {4:7,8:3} d1.update(d2) print(d2) this will update the existing dictionary with the\n",
    "# dictionary that we have given as arguments\n",
    "# for i in d.values():\n",
    "#     print(i) this will print value\n",
    "# for i in d.keys():\n",
    "#     print(i) this will print value\n",
    "# for i,j in d.items():\n",
    "#     print(i,j)\n",
    "# "
   ]
  },
  {
   "cell_type": "code",
   "execution_count": null,
   "metadata": {},
   "outputs": [],
   "source": [
    "name = input(\"Enter : \")\n",
    "key = int(input(\"Enter : \"))\n",
    "for i in range(key):\n",
    "    store = name[key]\n",
    "print(store)"
   ]
  },
  {
   "cell_type": "code",
   "execution_count": null,
   "metadata": {},
   "outputs": [],
   "source": [
    "# give an integer value and return a string with the equivalent english text of the given number \n",
    "# values should be between 0 to 1000\n",
    "dict = {1:'one',2:'two',3:'three',4:'four',5:'five',6:'six',7:'seven',8:'eight',9:'nine',10:'ten'\n",
    "        11:'eleven',12:'twelve',13:'thirteen',14:'fourteen',15:'fifteen',16:'sixteen',17:'seventeen'\n",
    "       18:'eighteen',19:'nineteen',20:'twenty',30:'thirty',40:'forty',50:'fifty',60:'sixty',70:'seventy'\n",
    "       80:'eighty',90:'ninety'}\n",
    "num = input(\"Enter number : \")\n",
    "length = len(num)\n",
    "for i in range(num):\n",
    "    "
   ]
  }
 ],
 "metadata": {
  "kernelspec": {
   "display_name": "Python 3",
   "language": "python",
   "name": "python3"
  },
  "language_info": {
   "codemirror_mode": {
    "name": "ipython",
    "version": 3
   },
   "file_extension": ".py",
   "mimetype": "text/x-python",
   "name": "python",
   "nbconvert_exporter": "python",
   "pygments_lexer": "ipython3",
   "version": "3.8.5"
  }
 },
 "nbformat": 4,
 "nbformat_minor": 4
}
