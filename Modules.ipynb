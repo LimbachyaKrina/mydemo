{
 "cells": [
  {
   "cell_type": "code",
   "execution_count": 15,
   "metadata": {},
   "outputs": [
    {
     "name": "stdout",
     "output_type": "stream",
     "text": [
      "['Sisters', 'and', 'Brothers', 'of', 'America,', 'It', 'fills', 'my', 'heart', 'with', 'joy', 'unspeakable', 'to', 'rise', 'in', 'response', 'to', 'the', 'warm', 'and', 'cordial', 'welcome', 'which', 'you', 'have', 'given', 'us.', 'I', 'thank', 'you', 'in', 'the', 'name', 'of', 'the', 'most', 'ancient', 'order', 'of', 'monks', 'in', 'the', 'world;', 'I', 'thank', 'you', 'in', 'the', 'name', 'of', 'the', 'mother', 'of', 'religions;', 'and', 'I', 'thank', 'you', 'in', 'the', 'name', 'of', 'the', 'millions', 'and', 'millions', 'of', 'Hindu', 'people', 'of', 'all', 'classes', 'and', 'sects.', 'My', 'thanks,', 'also,', 'to', 'some', 'of', 'the', 'speakers', 'on', 'this', 'platform', 'who,', 'referring', 'to', 'the', 'delegates', 'from', 'the', 'Orient,', 'have', 'told', 'you', 'that', 'these', 'men', 'from', 'far-off', 'nations', 'may', 'well', 'claim', 'the', 'honour', 'of', 'bearing', 'to', 'different', 'lands', 'the', 'idea', 'of', 'toleration.', 'I', 'am', 'proud', 'to', 'belong', 'to', 'a', 'religion', 'which', 'has', 'taught', 'the', 'world', 'both', 'tolerance', 'and', 'universal', 'acceptance.', 'We', 'believe', 'not', 'only', 'in', 'universal', 'toleration,', 'but', 'we', 'accept', 'all', 'religions', 'as', 'true.', 'I', 'am', 'proud', 'to', 'belong', 'to', 'a', 'nation', 'which', 'has', 'sheltered', 'the', 'persecuted', 'and', 'the', 'refugees', 'of', 'all', 'religions', 'and', 'all', 'nations', 'of', 'the', 'earth.', 'I', 'am', 'proud', 'to', 'tell', 'you', 'that', 'we', 'have', 'gathered', 'in', 'our', 'bosom', 'the', 'purest', 'remnant', 'of', 'the', 'Israelites,', 'who', 'came', 'to', 'southern', 'India', 'and', 'took', 'refuge', 'with', 'us', 'in', 'the', 'very', 'year', 'in', 'which', 'their', 'holy', 'temple', 'was', 'shattered', 'to', 'pieces', 'by', 'Roman', 'tyranny.', 'I', 'am', 'proud', 'to', 'belong', 'to', 'the', 'religion', 'which', 'has', 'sheltered', 'and', 'is', 'still', 'fostering', 'the', 'remnant', 'of', 'the', 'grand', 'Zoroastrian', 'nation.', 'I', 'will', 'quote', 'to', 'you,', 'brethren,', 'a', 'few', 'lines', 'from', 'a', 'hymn', 'which', 'I', 'remember', 'to', 'have', 'repeated', 'from', 'my', 'earliest', 'boyhood,', 'which', 'is', 'every', 'day', 'repeated', 'by', 'millions', 'of', 'human', 'beings:', '‘As', 'the', 'different', 'streams', 'having', 'their', 'sources', 'in', 'different', 'places', 'all', 'mingle', 'their', 'water', 'in', 'the', 'sea,', 'so,', 'O', 'Lord,', 'the', 'different', 'paths', 'which', 'men', 'take', 'through', 'different', 'tendencies,', 'various', 'though', 'they', 'appear,', 'crooked', 'or', 'straight,', 'all', 'lead', 'to', 'Thee.’', 'The', 'present', 'convention,', 'which', 'is', 'one', 'of', 'the', 'most', 'august', 'assemblies', 'ever', 'held,', 'is', 'in', 'itself', 'a', 'vindication,', 'a', 'declaration', 'to', 'the', 'world,', 'of', 'the', 'wonderful', 'doctrine', 'preached', 'in', 'the', 'Gita:', '‘Whosoever', 'comes', 'to', 'Me,', 'through', 'whatsoever', 'form,', 'I', 'reach', 'him;', 'all', 'men', 'are', 'struggling', 'through', 'paths', 'which', 'in', 'the', 'end', 'lead', 'to', 'Me.’', 'Sectarianism,', 'bigotry,', 'and', 'its', 'horrible', 'descendant,', 'fanaticism,', 'have', 'long', 'possessed', 'this', 'beautiful', 'earth.', 'They', 'have', 'filled', 'the', 'earth', 'with', 'violence,', 'drenched', 'it', 'often', 'and', 'often', 'with', 'human', 'blood,', 'destroyed', 'civilization,', 'and', 'sent', 'whole', 'nations', 'to', 'despair.', 'Had', 'it', 'not', 'been', 'for', 'these', 'horrible', 'demons,', 'human', 'society', 'would', 'be', 'far', 'more', 'advanced', 'than', 'it', 'is', 'now.', 'But', 'their', 'time', 'is', 'come;', 'and', 'I', 'fervently', 'hope', 'that', 'the', 'bell', 'that', 'tolled', 'this', 'morning', 'in', 'honour', 'of', 'this', 'convention', 'may', 'be', 'the', 'death-knell', 'of', 'all', 'fanaticism,', 'of', 'all', 'persecutions', 'with', 'the', 'sword', 'or', 'with', 'the', 'pen,', 'and', 'of', 'all', 'uncharitable', 'feelings', 'between', 'persons', 'wending', 'their', 'way', 'to', 'the', 'same', 'goal.']\n",
      "Sisters and Brothers of America, It fills my heart with joy unspeakable to rise\n",
      "in response to the warm and cordial welcome which you have given us. I thank you\n",
      "in the name of the most ancient order of monks in the world; I thank you in the\n",
      "name of the mother of religions; and I thank you in the name of the millions and\n",
      "millions of Hindu people of all classes and sects. My thanks, also, to some of\n",
      "the speakers on this platform who, referring to the delegates from the Orient,\n",
      "have told you that these men from far-off nations may well claim the honour of\n",
      "bearing to different lands the idea of toleration. I am proud to belong to a\n",
      "religion which has taught the world both tolerance and universal acceptance. We\n",
      "believe not only in universal toleration, but we accept all religions as true. I\n",
      "am proud to belong to a nation which has sheltered the persecuted and the\n",
      "refugees of all religions and all nations of the earth. I am proud to tell you\n",
      "that we have gathered in our bosom the purest remnant of the Israelites, who\n",
      "came to southern India and took refuge with us in the very year in which their\n",
      "holy temple was shattered to pieces by Roman tyranny. I am proud to belong to\n",
      "the religion which has sheltered and is still fostering the remnant of the grand\n",
      "Zoroastrian nation. I will quote to you, brethren, a few lines from a hymn which\n",
      "I remember to have repeated from my earliest boyhood, which is every day\n",
      "repeated by millions of human beings: ‘As the different streams having their\n",
      "sources in different places all mingle their water in the sea, so, O Lord, the\n",
      "different paths which men take through different tendencies, various though they\n",
      "appear, crooked or straight, all lead to Thee.’ The present convention, which is\n",
      "one of the most august assemblies ever held, is in itself a vindication, a\n",
      "declaration to the world, of the wonderful doctrine preached in the Gita:\n",
      "‘Whosoever comes to Me, through whatsoever form, I reach him; all men are\n",
      "struggling through paths which in the end lead to Me.’ Sectarianism, bigotry,\n",
      "and its horrible descendant, fanaticism, have long possessed this beautiful\n",
      "earth. They have filled the earth with violence, drenched it often and often\n",
      "with human blood, destroyed civilization, and sent whole nations to despair. Had\n",
      "it not been for these horrible demons, human society would be far more advanced\n",
      "than it is now. But their time is come; and I fervently hope that the bell that\n",
      "tolled this morning in honour of this convention may be the death-knell of all\n",
      "fanaticism, of all persecutions with the sword or with the pen, and of all\n",
      "uncharitable feelings between persons wending their way to the same goal.\n"
     ]
    }
   ],
   "source": [
    "# NOTE : .read() will read in normal form but .readlines() / .readline() will read in the form of list\n",
    "file1 = open('swami.txt',encoding = \"utf-8\")\n",
    "text  = file1.read()\n",
    "file1.close()\n",
    "file2 = open(\"processed.txt\", 'w+')\n",
    "line = ''\n",
    "print(text.split())\n",
    "for word in text.split():\n",
    "    if len(word+line) > 79:\n",
    "        file2.write(line+'\\n')\n",
    "        line = word\n",
    "    else:\n",
    "        if line:\n",
    "            line += ' '+ word\n",
    "        else:\n",
    "            line += word\n",
    "file2.write(line)\n",
    "file2.seek(0)\n",
    "print(file2.read())\n",
    "file2.close()"
   ]
  },
  {
   "cell_type": "code",
   "execution_count": 20,
   "metadata": {},
   "outputs": [
    {
     "ename": "FileNotFoundError",
     "evalue": "[Errno 2] No such file or directory: 'mail.txt'",
     "output_type": "error",
     "traceback": [
      "\u001b[1;31m---------------------------------------------------------------------------\u001b[0m",
      "\u001b[1;31mFileNotFoundError\u001b[0m                         Traceback (most recent call last)",
      "\u001b[1;32m<ipython-input-20-80ccd7512620>\u001b[0m in \u001b[0;36m<module>\u001b[1;34m\u001b[0m\n\u001b[0;32m      1\u001b[0m \u001b[1;31m# WAP to read through the file and figure out who has sent the greatest no. of mail.\u001b[0m\u001b[1;33m\u001b[0m\u001b[1;33m\u001b[0m\u001b[1;33m\u001b[0m\u001b[0m\n\u001b[1;32m----> 2\u001b[1;33m \u001b[0mfmail\u001b[0m \u001b[1;33m=\u001b[0m \u001b[0mopen\u001b[0m\u001b[1;33m(\u001b[0m\u001b[1;34m'mail.txt'\u001b[0m\u001b[1;33m)\u001b[0m\u001b[1;33m\u001b[0m\u001b[1;33m\u001b[0m\u001b[0m\n\u001b[0m\u001b[0;32m      3\u001b[0m \u001b[0mstore\u001b[0m \u001b[1;33m=\u001b[0m \u001b[0mfmail\u001b[0m\u001b[1;33m.\u001b[0m\u001b[0mreadlines\u001b[0m\u001b[1;33m(\u001b[0m\u001b[1;33m)\u001b[0m\u001b[1;33m\u001b[0m\u001b[1;33m\u001b[0m\u001b[0m\n\u001b[0;32m      4\u001b[0m \u001b[0mfmail\u001b[0m\u001b[1;33m.\u001b[0m\u001b[0mclose\u001b[0m\u001b[1;33m(\u001b[0m\u001b[1;33m)\u001b[0m\u001b[1;33m\u001b[0m\u001b[1;33m\u001b[0m\u001b[0m\n\u001b[0;32m      5\u001b[0m \u001b[0mfcount\u001b[0m \u001b[1;33m=\u001b[0m \u001b[1;33m{\u001b[0m\u001b[1;33m}\u001b[0m\u001b[1;33m\u001b[0m\u001b[1;33m\u001b[0m\u001b[0m\n",
      "\u001b[1;31mFileNotFoundError\u001b[0m: [Errno 2] No such file or directory: 'mail.txt'"
     ]
    }
   ],
   "source": [
    "# WAP to read through the file and figure out who has sent the greatest no. of mail. \n",
    "fmail = open('mail.txt')\n",
    "store = fmail.readlines()\n",
    "fmail.close()\n",
    "fcount = {}\n",
    "for send in store:\n",
    "    if (send.startswith('From ') ):\n",
    "        l = send.split()\n",
    "        email = l[1]\n",
    "        fcount[email] = fcount.get(email,0) + 1\n",
    "print(max(fcount.values()))"
   ]
  },
  {
   "cell_type": "code",
   "execution_count": 8,
   "metadata": {},
   "outputs": [],
   "source": [
    "# Collection of different folders is modules\n",
    "# collection of different modules is packages\n",
    "# collection of different packages is library\n",
    "# os module\n",
    "# import os\n",
    "# print(os.getcwd()) this will give me in which file i am working, its path  current working directory\n",
    "# os.chdir('D:') this will change the current working directory\n",
    "# python file will be in homepage but when i am adding an file through code it will be added in the changed dir\n",
    "# os.mkdir('mypython') this will make a new directory\n",
    "# os.chdir('D:\\\\mypython') \n",
    "# os.remove('D:\\\\Mypython\\\\newfile.txt') This will remove the file \n",
    "# os.rmdir('D:\\\\Mypython') this will only work when my folder is empty"
   ]
  },
  {
   "cell_type": "code",
   "execution_count": 10,
   "metadata": {},
   "outputs": [
    {
     "name": "stdout",
     "output_type": "stream",
     "text": [
      "D:\\\n"
     ]
    }
   ],
   "source": [
    "import os\n",
    "os.chdir('D:')\n",
    "print(os.getcwd())"
   ]
  },
  {
   "cell_type": "code",
   "execution_count": 12,
   "metadata": {},
   "outputs": [
    {
     "ename": "FileExistsError",
     "evalue": "[WinError 183] Cannot create a file when that file already exists: 'Mypython'",
     "output_type": "error",
     "traceback": [
      "\u001b[1;31m---------------------------------------------------------------------------\u001b[0m",
      "\u001b[1;31mFileExistsError\u001b[0m                           Traceback (most recent call last)",
      "\u001b[1;32m<ipython-input-12-4321a56d3c4c>\u001b[0m in \u001b[0;36m<module>\u001b[1;34m\u001b[0m\n\u001b[0;32m      1\u001b[0m \u001b[1;32mimport\u001b[0m \u001b[0mos\u001b[0m\u001b[1;33m\u001b[0m\u001b[1;33m\u001b[0m\u001b[0m\n\u001b[1;32m----> 2\u001b[1;33m \u001b[0mos\u001b[0m\u001b[1;33m.\u001b[0m\u001b[0mmkdir\u001b[0m\u001b[1;33m(\u001b[0m\u001b[1;34m'Mypython'\u001b[0m\u001b[1;33m)\u001b[0m\u001b[1;33m\u001b[0m\u001b[1;33m\u001b[0m\u001b[0m\n\u001b[0m",
      "\u001b[1;31mFileExistsError\u001b[0m: [WinError 183] Cannot create a file when that file already exists: 'Mypython'"
     ]
    }
   ],
   "source": [
    "import os\n",
    "os.mkdir('Mypython')"
   ]
  },
  {
   "cell_type": "code",
   "execution_count": 14,
   "metadata": {},
   "outputs": [],
   "source": [
    "os.chdir('D:\\\\Mypython')"
   ]
  },
  {
   "cell_type": "code",
   "execution_count": 16,
   "metadata": {},
   "outputs": [],
   "source": [
    "f = open('newfile.txt','w')\n",
    "f.write('Hello')\n",
    "f.close()\n"
   ]
  },
  {
   "cell_type": "code",
   "execution_count": 21,
   "metadata": {},
   "outputs": [
    {
     "ename": "FileNotFoundError",
     "evalue": "[WinError 2] The system cannot find the file specified: 'D:\\\\Mypython\\\\newfile.txt'",
     "output_type": "error",
     "traceback": [
      "\u001b[1;31m---------------------------------------------------------------------------\u001b[0m",
      "\u001b[1;31mFileNotFoundError\u001b[0m                         Traceback (most recent call last)",
      "\u001b[1;32m<ipython-input-21-9075b541f147>\u001b[0m in \u001b[0;36m<module>\u001b[1;34m\u001b[0m\n\u001b[1;32m----> 1\u001b[1;33m \u001b[0mos\u001b[0m\u001b[1;33m.\u001b[0m\u001b[0mremove\u001b[0m\u001b[1;33m(\u001b[0m\u001b[1;34m'D:\\\\Mypython\\\\newfile.txt'\u001b[0m\u001b[1;33m)\u001b[0m\u001b[1;33m\u001b[0m\u001b[1;33m\u001b[0m\u001b[0m\n\u001b[0m",
      "\u001b[1;31mFileNotFoundError\u001b[0m: [WinError 2] The system cannot find the file specified: 'D:\\\\Mypython\\\\newfile.txt'"
     ]
    }
   ],
   "source": [
    "os.remove('D:\\\\Mypython\\\\newfile.txt')"
   ]
  },
  {
   "cell_type": "code",
   "execution_count": 23,
   "metadata": {},
   "outputs": [
    {
     "name": "stdout",
     "output_type": "stream",
     "text": [
      "D:\\Mypython\n"
     ]
    }
   ],
   "source": [
    "print(os.getcwd())"
   ]
  },
  {
   "cell_type": "code",
   "execution_count": 2,
   "metadata": {},
   "outputs": [],
   "source": [
    "import os\n",
    "os.rmdir('D:\\\\Mypython')"
   ]
  },
  {
   "cell_type": "code",
   "execution_count": 4,
   "metadata": {},
   "outputs": [
    {
     "name": "stdout",
     "output_type": "stream",
     "text": [
      "C:\\Users\\LJENG\n"
     ]
    }
   ],
   "source": [
    "print(os.getcwd())"
   ]
  },
  {
   "cell_type": "code",
   "execution_count": 6,
   "metadata": {},
   "outputs": [],
   "source": [
    "# os.listdir()  this will get me all the dir in that \n",
    "# os.listdir(\"C:\")"
   ]
  },
  {
   "cell_type": "code",
   "execution_count": 8,
   "metadata": {},
   "outputs": [
    {
     "ename": "FileExistsError",
     "evalue": "[WinError 183] Cannot create a file when that file already exists: 'new.txt' -> 'new1.txt'",
     "output_type": "error",
     "traceback": [
      "\u001b[1;31m---------------------------------------------------------------------------\u001b[0m",
      "\u001b[1;31mFileExistsError\u001b[0m                           Traceback (most recent call last)",
      "\u001b[1;32m<ipython-input-8-8d99ad115638>\u001b[0m in \u001b[0;36m<module>\u001b[1;34m\u001b[0m\n\u001b[0;32m      2\u001b[0m \u001b[0mf\u001b[0m \u001b[1;33m=\u001b[0m \u001b[0mopen\u001b[0m\u001b[1;33m(\u001b[0m\u001b[1;34m'new.txt'\u001b[0m\u001b[1;33m,\u001b[0m\u001b[1;34m'w'\u001b[0m\u001b[1;33m)\u001b[0m\u001b[1;33m\u001b[0m\u001b[1;33m\u001b[0m\u001b[0m\n\u001b[0;32m      3\u001b[0m \u001b[0mf\u001b[0m\u001b[1;33m.\u001b[0m\u001b[0mclose\u001b[0m\u001b[1;33m(\u001b[0m\u001b[1;33m)\u001b[0m\u001b[1;33m\u001b[0m\u001b[1;33m\u001b[0m\u001b[0m\n\u001b[1;32m----> 4\u001b[1;33m \u001b[0mos\u001b[0m\u001b[1;33m.\u001b[0m\u001b[0mrename\u001b[0m\u001b[1;33m(\u001b[0m\u001b[1;34m'new.txt'\u001b[0m\u001b[1;33m,\u001b[0m\u001b[1;34m'new1.txt'\u001b[0m\u001b[1;33m)\u001b[0m\u001b[1;33m\u001b[0m\u001b[1;33m\u001b[0m\u001b[0m\n\u001b[0m\u001b[0;32m      5\u001b[0m \u001b[0mprint\u001b[0m\u001b[1;33m(\u001b[0m\u001b[0mos\u001b[0m\u001b[1;33m.\u001b[0m\u001b[0mpath\u001b[0m\u001b[1;33m.\u001b[0m\u001b[0mgetsize\u001b[0m\u001b[1;33m(\u001b[0m\u001b[1;34m'new1.txt'\u001b[0m\u001b[1;33m)\u001b[0m\u001b[1;33m)\u001b[0m\u001b[1;33m\u001b[0m\u001b[1;33m\u001b[0m\u001b[0m\n",
      "\u001b[1;31mFileExistsError\u001b[0m: [WinError 183] Cannot create a file when that file already exists: 'new.txt' -> 'new1.txt'"
     ]
    }
   ],
   "source": [
    "import os\n",
    "f = open('new.txt','w')\n",
    "f.close()\n",
    "os.rename('new.txt','new1.txt')\n",
    "print(os.path.getsize('new1.txt'))"
   ]
  },
  {
   "cell_type": "code",
   "execution_count": 11,
   "metadata": {},
   "outputs": [
    {
     "name": "stdout",
     "output_type": "stream",
     "text": [
      "9223372036854775807\n",
      "['C:\\\\Users\\\\LJENG', 'C:\\\\ProgramData\\\\Anaconda3\\\\python38.zip', 'C:\\\\ProgramData\\\\Anaconda3\\\\DLLs', 'C:\\\\ProgramData\\\\Anaconda3\\\\lib', 'C:\\\\ProgramData\\\\Anaconda3', '', 'C:\\\\Users\\\\LJENG\\\\AppData\\\\Roaming\\\\Python\\\\Python38\\\\site-packages', 'C:\\\\ProgramData\\\\Anaconda3\\\\lib\\\\site-packages', 'C:\\\\ProgramData\\\\Anaconda3\\\\lib\\\\site-packages\\\\win32', 'C:\\\\ProgramData\\\\Anaconda3\\\\lib\\\\site-packages\\\\win32\\\\lib', 'C:\\\\ProgramData\\\\Anaconda3\\\\lib\\\\site-packages\\\\Pythonwin', 'C:\\\\ProgramData\\\\Anaconda3\\\\lib\\\\site-packages\\\\IPython\\\\extensions', 'C:\\\\Users\\\\LJENG\\\\.ipython']\n",
      "3.8.5 (default, Sep  3 2020, 21:29:08) [MSC v.1916 64 bit (AMD64)]\n"
     ]
    }
   ],
   "source": [
    "import sys # This is system module\n",
    "print(sys.maxsize)\n",
    "# print(sys.path) this will give me answer in list and python exist only in this folder\n",
    "# if i open this path and in another folder\n",
    "# i can append path in here \n",
    "print(sys.version)\n",
    "# This will give me information about the python system "
   ]
  },
  {
   "cell_type": "code",
   "execution_count": 12,
   "metadata": {},
   "outputs": [
    {
     "name": "stdout",
     "output_type": "stream",
     "text": [
      "{'09': 2, '18': 1, '16': 4, '15': 2, '14': 1, '11': 6, '10': 3, '07': 1, '06': 1, '04': 3, '19': 1, '17': 2}\n"
     ]
    }
   ],
   "source": [
    "fmail = open('mail.txt')\n",
    "store = fmail.readlines()\n",
    "fmail.close()\n",
    "fcount = {}\n",
    "time = {}\n",
    "for i in store:\n",
    "    if(i.startswith('From ')):\n",
    "        l = i.split()\n",
    "        for j in l:\n",
    "            if(j.find(':') != -1):\n",
    "                timings = j[0:2]\n",
    "                time[timings] = time.get(timings,0) +1\n",
    "print(time)"
   ]
  },
  {
   "cell_type": "code",
   "execution_count": 13,
   "metadata": {},
   "outputs": [
    {
     "name": "stdout",
     "output_type": "stream",
     "text": [
      "C:\\Users\\LJENG\n"
     ]
    }
   ],
   "source": [
    "print(os.getcwd())"
   ]
  }
 ],
 "metadata": {
  "kernelspec": {
   "display_name": "Python 3",
   "language": "python",
   "name": "python3"
  },
  "language_info": {
   "codemirror_mode": {
    "name": "ipython",
    "version": 3
   },
   "file_extension": ".py",
   "mimetype": "text/x-python",
   "name": "python",
   "nbconvert_exporter": "python",
   "pygments_lexer": "ipython3",
   "version": "3.8.5"
  }
 },
 "nbformat": 4,
 "nbformat_minor": 4
}
