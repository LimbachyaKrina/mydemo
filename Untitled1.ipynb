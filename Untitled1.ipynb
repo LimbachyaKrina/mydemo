{
 "cells": [
  {
   "cell_type": "code",
   "execution_count": null,
   "metadata": {},
   "outputs": [],
   "source": [
    "#0,0,1,1,2,4,7,13,24..."
   ]
  },
  {
   "cell_type": "code",
   "execution_count": null,
   "metadata": {},
   "outputs": [],
   "source": [
    "a=0\n",
    "b=0\n",
    "c=1\n",
    "for i in range(1,19):\n",
    "    if(i==6):\n",
    "        print('18th number is=',c)\n",
    "        break\n",
    "    else: \n",
    "        a=a+c+b\n",
    "        b=b+c+a\n",
    "        c=a+b+c\n",
    "\n",
    "    "
   ]
  },
  {
   "cell_type": "code",
   "execution_count": null,
   "metadata": {},
   "outputs": [],
   "source": [
    "#strong numbers:\n",
    "# in number theory, a number is strong when the sum of its individual digits, each raised  to the factorial power, is the \n",
    "# number itself\n"
   ]
  },
  {
   "cell_type": "code",
   "execution_count": null,
   "metadata": {},
   "outputs": [],
   "source": [
    "for i in range(1,501):\n",
    "    sum=1\n",
    "    sum2=0\n",
    "    sum3=0\n",
    "    sum4=0\n",
    "    a,b,c,d=0,0,0,0\n",
    "    a=i\n",
    "    while i>0:\n",
    "        b=(i%10)\n",
    "        for j in range(1,b+1):\n",
    "            sum=sum*j\n",
    "        i=int(i/10)\n",
    "        if(i>0):\n",
    "            sum2=1\n",
    "            c=(i%10)\n",
    "            for j in range(1,c+1):\n",
    "                sum2=sum2*j\n",
    "            i=int(i/10)\n",
    "            if(i>0):\n",
    "                sum3=1\n",
    "                d=(i%10)\n",
    "                for j in range(1,d+1):\n",
    "                    sum3=sum3*j\n",
    "                i=int(i/10)\n",
    "        sum4=sum+sum2+sum3\n",
    "    if(a==sum4):\n",
    "        print(a,' is a strong number')\n"
   ]
  },
  {
   "cell_type": "code",
   "execution_count": null,
   "metadata": {},
   "outputs": [],
   "source": [
    "#these numbers are a pair of numbers whose factors and accordingly their sum is the other number in the pair"
   ]
  },
  {
   "cell_type": "code",
   "execution_count": null,
   "metadata": {},
   "outputs": [],
   "source": [
    "for i in range(2,501):\n",
    "    sum=0\n",
    "    sum2=0\n",
    "    for j in range(1,i):\n",
    "        if int(i%j)==0:\n",
    "            sum=sum+j\n",
    "    for j in range(1, sum):\n",
    "        if int(sum%j)==0:\n",
    "            sum2=sum2+j\n",
    "    if(sum2==i and sum!=sum2):\n",
    "        print(sum,sum2)"
   ]
  },
  {
   "cell_type": "code",
   "execution_count": null,
   "metadata": {},
   "outputs": [],
   "source": [
    "i=1\n",
    "Balance=0\n",
    "while i==1:\n",
    "    i=int(input(\"enter 1 if you wish to continue transactions: \"))\n",
    "    if(i==1): \n",
    "        choice=int(input(\"Enter 1 if you wish to deposit and 2 to withdraw: \"))\n",
    "        if(choice==1):\n",
    "            Deposit=int(input(\"enter amount you wish to deposit: \"))\n",
    "            Balance=Balance+Deposit\n",
    "        elif choice==2 and Balance>0:\n",
    "            Withdraw=int(input(\"enter amount you wish to withdraw: \"))\n",
    "            Balance=Balance-Withdraw\n",
    "print('Current balance=',Balance)\n",
    "    "
   ]
  },
  {
   "cell_type": "code",
   "execution_count": 2,
   "metadata": {},
   "outputs": [
    {
     "name": "stdout",
     "output_type": "stream",
     "text": [
      "-1000\n"
     ]
    }
   ],
   "source": [
    "sum=0\n",
    "for i in range(1,2001):\n",
    "    if i%2==0:\n",
    "        sum=sum-i\n",
    "    else:\n",
    "        sum=sum+i\n",
    "print(sum)"
   ]
  },
  {
   "cell_type": "code",
   "execution_count": 3,
   "metadata": {},
   "outputs": [
    {
     "ename": "SyntaxError",
     "evalue": "invalid syntax (<ipython-input-3-b17b14ff01b3>, line 2)",
     "output_type": "error",
     "traceback": [
      "\u001b[1;36m  File \u001b[1;32m\"<ipython-input-3-b17b14ff01b3>\"\u001b[1;36m, line \u001b[1;32m2\u001b[0m\n\u001b[1;33m    it can be defined as the number whish is a product of consecutive number\u001b[0m\n\u001b[1;37m       ^\u001b[0m\n\u001b[1;31mSyntaxError\u001b[0m\u001b[1;31m:\u001b[0m invalid syntax\n"
     ]
    }
   ],
   "source": [
    "#Pronic numbers:\n",
    "#it can be defined as the number whish is a product of consecutive number"
   ]
  },
  {
   "cell_type": "code",
   "execution_count": 7,
   "metadata": {},
   "outputs": [
    {
     "name": "stdout",
     "output_type": "stream",
     "text": [
      "2\n",
      "6\n",
      "12\n",
      "20\n",
      "30\n",
      "42\n",
      "56\n",
      "72\n",
      "90\n",
      "110\n",
      "132\n",
      "156\n",
      "182\n",
      "210\n",
      "240\n",
      "272\n",
      "306\n",
      "342\n",
      "380\n",
      "420\n",
      "462\n",
      "506\n",
      "552\n",
      "600\n",
      "650\n",
      "702\n",
      "756\n",
      "812\n",
      "870\n",
      "930\n",
      "992\n",
      "1056\n",
      "1122\n",
      "1190\n",
      "1260\n",
      "1332\n",
      "1406\n",
      "1482\n",
      "1560\n",
      "1640\n",
      "1722\n",
      "1806\n",
      "1892\n",
      "1980\n",
      "2070\n",
      "2162\n",
      "2256\n",
      "2352\n",
      "2450\n",
      "2550\n",
      "2652\n",
      "2756\n",
      "2862\n",
      "2970\n",
      "3080\n",
      "3192\n",
      "3306\n",
      "3422\n",
      "3540\n",
      "3660\n",
      "3782\n",
      "3906\n",
      "4032\n",
      "4160\n",
      "4290\n",
      "4422\n",
      "4556\n",
      "4692\n",
      "4830\n",
      "4970\n",
      "5112\n",
      "5256\n",
      "5402\n",
      "5550\n",
      "5700\n",
      "5852\n",
      "6006\n",
      "6162\n",
      "6320\n",
      "6480\n",
      "6642\n",
      "6806\n",
      "6972\n",
      "7140\n",
      "7310\n",
      "7482\n",
      "7656\n",
      "7832\n",
      "8010\n",
      "8190\n",
      "8372\n",
      "8556\n",
      "8742\n",
      "8930\n",
      "9120\n",
      "9312\n",
      "9506\n",
      "9702\n",
      "9900\n",
      "count= 99\n"
     ]
    }
   ],
   "source": [
    "count=0\n",
    "for i in range(2,101):\n",
    "    num=(i-1)*i\n",
    "    print(num)\n",
    "    count+=1\n",
    "print('count=',count)"
   ]
  },
  {
   "cell_type": "code",
   "execution_count": 30,
   "metadata": {},
   "outputs": [
    {
     "name": "stdout",
     "output_type": "stream",
     "text": [
      "..../\n",
      ".../\n",
      "../\n",
      "./\n"
     ]
    }
   ],
   "source": [
    "for i in range(1,5):\n",
    "    for j in range(i,5):\n",
    "        print(\".\",end=\"\")\n",
    "    print('/')\n",
    "#     for j in range(i+1,i*2):\n",
    "#         print(\" \",end=\"\")\n",
    "#     print('\\\\')"
   ]
  }
 ],
 "metadata": {
  "kernelspec": {
   "display_name": "Python 3",
   "language": "python",
   "name": "python3"
  },
  "language_info": {
   "codemirror_mode": {
    "name": "ipython",
    "version": 3
   },
   "file_extension": ".py",
   "mimetype": "text/x-python",
   "name": "python",
   "nbconvert_exporter": "python",
   "pygments_lexer": "ipython3",
   "version": "3.8.5"
  }
 },
 "nbformat": 4,
 "nbformat_minor": 4
}
