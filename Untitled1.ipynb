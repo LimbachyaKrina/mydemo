{
 "cells": [
  {
   "cell_type": "code",
   "execution_count": 10,
   "metadata": {},
   "outputs": [
    {
     "name": "stdout",
     "output_type": "stream",
     "text": [
      "Enter a list to check : [5,5,2,5,8]\n",
      "total special elements are 2\n"
     ]
    },
    {
     "ename": "IndexError",
     "evalue": "pop index out of range",
     "output_type": "error",
     "traceback": [
      "\u001b[1;31m---------------------------------------------------------------------------\u001b[0m",
      "\u001b[1;31mIndexError\u001b[0m                                Traceback (most recent call last)",
      "\u001b[1;32m<ipython-input-10-5c813fe3a306>\u001b[0m in \u001b[0;36m<module>\u001b[1;34m\u001b[0m\n\u001b[0;32m     12\u001b[0m         \u001b[0mcount\u001b[0m \u001b[1;33m+=\u001b[0m \u001b[1;36m1\u001b[0m\u001b[1;33m\u001b[0m\u001b[1;33m\u001b[0m\u001b[0m\n\u001b[0;32m     13\u001b[0m \u001b[0mprint\u001b[0m\u001b[1;33m(\u001b[0m\u001b[1;34mf'total special elements are {count}'\u001b[0m\u001b[1;33m)\u001b[0m\u001b[1;33m\u001b[0m\u001b[1;33m\u001b[0m\u001b[0m\n\u001b[1;32m---> 14\u001b[1;33m \u001b[0ml\u001b[0m\u001b[1;33m.\u001b[0m\u001b[0mpop\u001b[0m\u001b[1;33m(\u001b[0m\u001b[1;36m10\u001b[0m\u001b[1;33m)\u001b[0m\u001b[1;33m\u001b[0m\u001b[1;33m\u001b[0m\u001b[0m\n\u001b[0m",
      "\u001b[1;31mIndexError\u001b[0m: pop index out of range"
     ]
    }
   ],
   "source": [
    "# Given a list l of size n. You need to count the number of special elements in the given list. An element is special \n",
    "# if removal of that element makes the list balanced. The list will be balanced if some of even index element is equal \n",
    "# to the sum of odd index elements.\n",
    "l = eval(input(\"Enter a list to check : \"))\n",
    "count = 0\n",
    "for i in range (0,len(l)):\n",
    "    c = l.copy()\n",
    "    c.pop(i)\n",
    "    sum1 = sum(c[0::2])\n",
    "    sum2 = sum(c[1::2])\n",
    "    if(sum1 == sum2):\n",
    "        count += 1\n",
    "print(f'total special elements are {count}')"
   ]
  },
  {
   "cell_type": "code",
   "execution_count": 13,
   "metadata": {},
   "outputs": [
    {
     "name": "stdout",
     "output_type": "stream",
     "text": [
      "Enter a list to check : [5,5,2,5,8]\n",
      "1\n"
     ]
    }
   ],
   "source": [
    "num = eval(input(\"Enter a list to check : \"))\n",
    "count = 0\n",
    "iteration = 0\n",
    "sumeven,sumodd = 0,0\n",
    "for i in range(len(num)):\n",
    "    for j in range(0,len(num),2):\n",
    "        sumeven += num[j]\n",
    "    for k in range(1,len(num),2):\n",
    "        sumodd += num[k]\n",
    "    if(i%2 == 0):\n",
    "        sumeven = sumeven - num[i]\n",
    "    else:\n",
    "        sumodd = sumodd - num[i]\n",
    "    if(sumeven == sumodd):\n",
    "        count += 1\n",
    "print(count)"
   ]
  },
  {
   "cell_type": "code",
   "execution_count": 20,
   "metadata": {},
   "outputs": [],
   "source": [
    "# Set s = {} not possible s= set() this is i have to use to print blank set\n",
    "# It is mutable, unordered, it will store the data but place is not decided\n",
    "# Cannot sort it or there is no any indexing \n",
    "# inside set there are only immutable values to be inserted\n",
    "# list, dictionary, set cannot be inside set\n",
    "# it does not allow any duplicate value\n",
    "# {1,2,3} = {3,2,1} this is give true answer\n",
    "# you cannot access any element directly from a set on the basis of indexing as it is not possible\n",
    "# s.add(5) it is availabe\n",
    "# append is not applicable\n",
    "# set follows hashkey and follows algorithm\n",
    "# l = {3,6,1,2,7,4,5}\n",
    "# print(l)   ----> {1, 2, 3, 4, 5, 6, 7}\n",
    "# s.update((1,2,3,4,5))\n",
    "# s.discard(3) it will delete the element but if the element is not present then it will give error\n",
    "# s.remove(12) it will give error if element is not present\n",
    "# s.pop() you do not know which element will it delete\n",
    "# s.clear() it will delete the set if printed it will give o/p as --> set()\n",
    "s1 = {1,2,3,5,8}\n",
    "s2 = {1,5,3}\n",
    "# print(s1|s2) union\n",
    "# print(s1 - s2) difference\n",
    "# print(s2 - s1) difference\n",
    "# print(s1 & s2)intersection\n",
    "# print(s1 ^ s2) symmmetric difference which means same element from both the set will be removed [union - intersection]\n",
    "# set used mostly when i want to find unique value in the program\n",
    "# len, min, max, sorted\n",
    "# for sorted it will take all the elements in list and then it will sort and display in list\n",
    "# s1.update(s2) it will work as an union one, and that union value will be stored in s1\n",
    "# s1.difference(s2)  this will work only in print\n",
    "# s1.difference_update(s2) s2 will be - from s1 and that value will be stored in s1\n",
    "# intersection and & this will work same\n",
    "# intersection_update will update the set\n",
    "# symmetric_difference and ^ will work the same\n",
    "# symmetric _difference_update\n",
    "# print(s1.issuperset(s2))\n",
    "# print(s2.issubset(s1))\n",
    "# Frozen Set\n",
    "# it is immutable\n",
    "# we can use frozen set inside set\n",
    "# fs1 = frozenset([1,2,3,4]) this is basically converting list, tuple or anything into a frozenset\n",
    "# fs2 = frozenset([3,4,5,6])\n",
    "# print(fs1|fs2)    ----> frozenset({1, 2, 3, 4, 5, 6})\n",
    "s11 = {1,2,3,frozenset([4,5,6])}\n",
    "print(s11)"
   ]
  },
  {
   "cell_type": "code",
   "execution_count": 6,
   "metadata": {},
   "outputs": [
    {
     "name": "stdout",
     "output_type": "stream",
     "text": [
      "Enter rating of students : [2,4,1,6,1,7,8,9,2,1]\n",
      "[1, 1, 1, 1, 1, 1, 1, 1, 1, 1]\n",
      "[1, 2, 1, 2, 1, 2, 3, 3, 2, 1]\n",
      "18\n"
     ]
    }
   ],
   "source": [
    "# there are n number of children standing in a line, each child is assigned a rating value given in the integer list of\n",
    "# ratings. You giving candies to this children subjected to the following requirements :\n",
    "# each child must have atleast one candy\n",
    "# children with a higher rating get more candies than their neighbours\n",
    "# You need to return the minimum number of  candies that you need to distribute\n",
    "# Testcase : [2,0,4] [2,1,2] \n",
    "children = eval(input(\"Enter rating of students : \"))\n",
    "candies = [1]*len(children)\n",
    "print(candies)\n",
    "for i in range (0,len(children)-1):\n",
    "    if(children[i+1] > children[i]):\n",
    "        candies[i+1] = candies[i] + 1\n",
    "for i in range(len(children)-1,0,-1):\n",
    "    if(children[i-1] > children[i]):\n",
    "        candies[i-1] = candies[i] + 1\n",
    "print(candies)\n",
    "print(sum(candies))"
   ]
  }
 ],
 "metadata": {
  "kernelspec": {
   "display_name": "Python 3",
   "language": "python",
   "name": "python3"
  },
  "language_info": {
   "codemirror_mode": {
    "name": "ipython",
    "version": 3
   },
   "file_extension": ".py",
   "mimetype": "text/x-python",
   "name": "python",
   "nbconvert_exporter": "python",
   "pygments_lexer": "ipython3",
   "version": "3.8.5"
  }
 },
 "nbformat": 4,
 "nbformat_minor": 4
}
