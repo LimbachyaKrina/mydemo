{
 "cells": [
  {
   "cell_type": "code",
   "execution_count": null,
   "metadata": {},
   "outputs": [],
   "source": [
    "%%writefile example.py\n",
    "num1=int(input(\"enter 1st number:\"))\n",
    "num2=int(input(\"enter 2nd number:\"))\n",
    "num3=int(input(\"enter 3rd number:\"))\n",
    "if num1>num2:\n",
    "    if num1>num3:\n",
    "        print(\"num1\", num1,\" is greatest\")\n",
    "    elif num3>num2:\n",
    "        print(\"num3\",num3,\" is greatest\")\n",
    "elif num2>num1:\n",
    "    if num2>num3:\n",
    "        print(\"num2\", num2,\" is greatest\")\n",
    "    elif num3>num2:\n",
    "        print(\"num3\",num3,\" is greatest\")"
   ]
  },
  {
   "cell_type": "code",
   "execution_count": null,
   "metadata": {},
   "outputs": [],
   "source": [
    "%%writefile example2.py\n",
    "num1=int(input(\"enter 1st number:\"))\n",
    "num2=int(input(\"enter 2nd number:\"))\n",
    "num3=int(input(\"enter 3rd number:\"))\n",
    "if num1>num2 and num1>num3 :\n",
    "        print(\"num1\", num1,\" is greatest\")\n",
    "elif num2>num1 and num2>num3 :\n",
    "        print(\"num2\", num2,\" is greatest\")\n",
    "elif num3>num1 and num3>num2:\n",
    "        print(\"num3\",num3,\" is greatest\")\n",
    "#>python -m pyflowchart example2.py -o flow2.html in cmd"
   ]
  },
  {
   "cell_type": "code",
   "execution_count": null,
   "metadata": {},
   "outputs": [],
   "source": [
    "for i in 'python':\n",
    "    print(i,end=\"\")"
   ]
  },
  {
   "cell_type": "code",
   "execution_count": null,
   "metadata": {},
   "outputs": [],
   "source": [
    "for i in [1,2,True,3,4,'final']:\n",
    "    print(i,end=\"\")\n",
    "else:\n",
    "    print(' the loop ran without break')"
   ]
  },
  {
   "cell_type": "code",
   "execution_count": null,
   "metadata": {},
   "outputs": [],
   "source": [
    "for i in list(range(1,10)):\n",
    "    print(i,end=\"\")\n",
    "else:\n",
    "    print(' the loop ran without break')"
   ]
  },
  {
   "cell_type": "code",
   "execution_count": null,
   "metadata": {},
   "outputs": [],
   "source": [
    "help(range)"
   ]
  },
  {
   "cell_type": "code",
   "execution_count": null,
   "metadata": {},
   "outputs": [],
   "source": [
    "type(type)"
   ]
  },
  {
   "cell_type": "code",
   "execution_count": null,
   "metadata": {},
   "outputs": [],
   "source": [
    "# wap to write 1 to 5 in reverse order"
   ]
  },
  {
   "cell_type": "code",
   "execution_count": null,
   "metadata": {},
   "outputs": [],
   "source": [
    "for i in range(2,20,2):\n",
    "    print(i)"
   ]
  },
  {
   "cell_type": "code",
   "execution_count": 2,
   "metadata": {},
   "outputs": [
    {
     "name": "stdout",
     "output_type": "stream",
     "text": [
      "0\n",
      "1\n",
      "2\n",
      "3\n",
      "4\n",
      "5\n",
      "loop completed without break\n"
     ]
    }
   ],
   "source": [
    "count=0\n",
    "while count<6:\n",
    "    print(count)\n",
    "    count+=1\n",
    "else:\n",
    "    print('loop completed without break')"
   ]
  },
  {
   "cell_type": "code",
   "execution_count": 4,
   "metadata": {},
   "outputs": [
    {
     "name": "stdout",
     "output_type": "stream",
     "text": [
      "0\n"
     ]
    }
   ],
   "source": [
    "count=0\n",
    "while count<6:\n",
    "    print(count)\n",
    "    count+=1\n",
    "    break;\n",
    "else:\n",
    "    print('loop completed without break')"
   ]
  },
  {
   "cell_type": "code",
   "execution_count": 15,
   "metadata": {},
   "outputs": [
    {
     "name": "stdout",
     "output_type": "stream",
     "text": [
      "1"
     ]
    }
   ],
   "source": [
    "for i in list(range(1,10)):\n",
    "    print(i,end=\"\")\n",
    "    break\n",
    "else:\n",
    "    print('the loop ran without break')"
   ]
  },
  {
   "cell_type": "code",
   "execution_count": 18,
   "metadata": {},
   "outputs": [
    {
     "name": "stdout",
     "output_type": "stream",
     "text": [
      "13456789the loop ran without break\n"
     ]
    }
   ],
   "source": [
    "for i in list(range(1,10)):\n",
    "    if i==2:\n",
    "        continue\n",
    "    print(i,end=\"\")\n",
    "    \n",
    "else:\n",
    "    print('the loop ran without break')"
   ]
  },
  {
   "cell_type": "code",
   "execution_count": 22,
   "metadata": {},
   "outputs": [],
   "source": [
    "for i in range(5):\n",
    "    ..."
   ]
  },
  {
   "cell_type": "code",
   "execution_count": 25,
   "metadata": {},
   "outputs": [],
   "source": [
    "for i in range(5):\n",
    "    pass\n"
   ]
  },
  {
   "cell_type": "code",
   "execution_count": 26,
   "metadata": {},
   "outputs": [],
   "source": [
    "#wap to find the sum of first 20 natural numbers"
   ]
  },
  {
   "cell_type": "code",
   "execution_count": 27,
   "metadata": {},
   "outputs": [
    {
     "name": "stdout",
     "output_type": "stream",
     "text": [
      "210\n"
     ]
    }
   ],
   "source": [
    "count=1\n",
    "sum=0\n",
    "while count<=20:\n",
    "    sum=sum+count\n",
    "    count+=1\n",
    "print(sum)"
   ]
  },
  {
   "cell_type": "code",
   "execution_count": 28,
   "metadata": {},
   "outputs": [],
   "source": [
    "#wap to get multiplication table of 13"
   ]
  },
  {
   "cell_type": "code",
   "execution_count": 34,
   "metadata": {},
   "outputs": [
    {
     "name": "stdout",
     "output_type": "stream",
     "text": [
      "enter number who's table you wish to get: 7\n",
      "7 x 1 = 7\n",
      "7 x 2 = 14\n",
      "7 x 3 = 21\n",
      "7 x 4 = 28\n",
      "7 x 5 = 35\n",
      "7 x 6 = 42\n",
      "7 x 7 = 49\n",
      "7 x 8 = 56\n",
      "7 x 9 = 63\n",
      "7 x 10 = 70\n"
     ]
    }
   ],
   "source": [
    "num=int(input('enter number who\\'s table you wish to get: '))\n",
    "for i in range(1,11):\n",
    "    print(num,'x',i,'=',num*i)"
   ]
  },
  {
   "cell_type": "code",
   "execution_count": 35,
   "metadata": {},
   "outputs": [],
   "source": [
    "#wap to find factorial of given number"
   ]
  },
  {
   "cell_type": "code",
   "execution_count": 42,
   "metadata": {},
   "outputs": [
    {
     "name": "stdout",
     "output_type": "stream",
     "text": [
      "enter number to find it's factorial: 0\n",
      "1\n"
     ]
    }
   ],
   "source": [
    "num=int(input(\"enter number to find it's factorial: \"))\n",
    "result=1\n",
    "if(num>=0):\n",
    "    while num>0:\n",
    "        result=result*num\n",
    "        num=num-1\n",
    "    print(result)\n",
    "elif num<0:\n",
    "    print('not possible')"
   ]
  },
  {
   "cell_type": "code",
   "execution_count": 56,
   "metadata": {},
   "outputs": [
    {
     "name": "stdout",
     "output_type": "stream",
     "text": [
      "enter number to find fibonacci to that digit: 2\n",
      "0\n",
      "1\n",
      "1\n",
      "1\n",
      "3\n",
      "4\n",
      "2\n",
      "11\n",
      "13\n"
     ]
    }
   ],
   "source": [
    "num=int(input(\"enter number to find fibonacci to that digit: \"))\n",
    "result=1\n",
    "num2=1\n",
    "num3=num\n",
    "for i in list(range(0,num+1)):\n",
    "    print(i)\n",
    "    print(result)\n",
    "    num2=result+i\n",
    "    print(num2)\n",
    "    i=num2+result\n",
    "    result=num2+i\n",
    "   "
   ]
  },
  {
   "cell_type": "code",
   "execution_count": null,
   "metadata": {},
   "outputs": [],
   "source": []
  }
 ],
 "metadata": {
  "kernelspec": {
   "display_name": "Python 3",
   "language": "python",
   "name": "python3"
  },
  "language_info": {
   "codemirror_mode": {
    "name": "ipython",
    "version": 3
   },
   "file_extension": ".py",
   "mimetype": "text/x-python",
   "name": "python",
   "nbconvert_exporter": "python",
   "pygments_lexer": "ipython3",
   "version": "3.8.5"
  }
 },
 "nbformat": 4,
 "nbformat_minor": 4
}
