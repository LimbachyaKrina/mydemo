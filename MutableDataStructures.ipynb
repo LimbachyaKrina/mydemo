{
 "cells": [
  {
   "cell_type": "code",
   "execution_count": 42,
   "metadata": {},
   "outputs": [
    {
     "name": "stdout",
     "output_type": "stream",
     "text": [
      "['apple']\n"
     ]
    }
   ],
   "source": [
    "# l = [1,2,3,4] Heterogenous Data Structure this does not store any data but it point towards the data present \n",
    "# l = [1,2,3,4]\n",
    "# print(id(l))\n",
    "# print(id(l[0]))\n",
    "# print(id(l[1]))\n",
    "# print(id(1))\n",
    "# print(id(2))\n",
    "# List are ordered data structures. particular index has particular data\n",
    "# l2 = list() this is a function, whatever that i am passing in that bracket it will store it in the list\n",
    "# l2 = [] i can write like this also.\n",
    "# when i am passing a tuple inside a list it will break dowm the tuple and assign it accordingly to the index of list\n",
    "# same with string. Outer most bracket will only be break down. Outermost bracket will be removed\n",
    "# inside a list i can update a value also delete a value\n",
    "# l3 = [(1,2,3,4)] ---> l3 = [1,2,3,4]\n",
    "# l4 = [\"Hello\"] ---> l4 = ['h','e','l','l','o']\n",
    "l = [1,2,'Jello',(1,2),[4,5],60]\n",
    "# l =[ [1,2,'Jello',(1,2),[4,5],60]] l=[[1,2],[3,4]] 2D list has rows and columns, it works like 2D but it is not really\n",
    "# l[3][1] = 7 this will not possible as tuples are immutable\n",
    "# l.append(20) Append can only add one element at a time. it will not breakdown. it will join the it as a whole to the list\n",
    "# l.append((30,40))\n",
    "# l = [1,2,3,[1,2],'abcd']\n",
    "# print(l[2:5][2][1:2]) ---> b it will goes inside of it \n",
    "# print(l[-1:-3:-1][-1][-2]) ----> 1 as by the first slicing it will make the list reverse as there is -1\n",
    "# l.extend([1,2,3]) it will breakdown and then it will add in the list\n",
    "# l.extend(range(10)) it will add from 0 to 9 elements in the list\n",
    "# the basic difference between append and extend is that append will add as it is element in the list while as \n",
    "# extends breakdown the element and then it will add\n",
    "l = [1,2,3,4,1,2]\n",
    "# l.insert(2,6) first argument will be the place where i want to add and the 2nd argument will be what i want to add\n",
    "# insert will not give any value it will when written inside print will give none\n",
    "# print(l)\n",
    "# l[1:4] = [200,400] this will replace the number of element present in the list as these element.\n",
    "# NOTE : In list it will not give any error if i replace 3 element with 2 elements. In short it will not create any\n",
    "# problem if the number of elements are inequal\n",
    "# del l , del l[1] indexing will be change \n",
    "# l.remove(5) it removes the element 5 from the list not the element present at 5 index\n",
    "# l.remove(2) remove will delete only one time. the first most elemet will be deleted\n",
    "# if the element not present and i am removing then it will give error\n",
    "# l.pop() it will delete element from last \n",
    "# l.pop(2) it will delete the element present at that index if that index is not present it will give error\n",
    "# pop also return the element it will delete a = l.pop(2)\n",
    "# l.clear() it will clear all the elements present inside the list and there will be a blank list but delete will \n",
    "# delete the whole list i.e the variable\n",
    "# print(l1+l2) append print(l1*2) \n",
    "# l3 = [[[1,2],[3,4]],[[5,6],[7,8]]] \n",
    "# for i in l3:\n",
    "#     print(i) 3D list\n",
    "# common function: len, sum, max, min \n",
    "# sum will only give output if all the elements are in integer form or else it will give error \n",
    "# l.sort() it will sort the list NOTE: the elements must be of same data type\n",
    "# l.reverse() it will reverse the list\n",
    "# l1=[1,2,3] l1 = l2 l2 = 4 now it will change the value in both the list \n",
    "# as both the lists are pointing at the same things. Both the lists have same id\n",
    "# l2 = l1.copy() this will make a new list this will be used everywhere as it will create another variable\n",
    "# or we can also use slicing i.e : l2 = l1[:]\n",
    "# l = [i for i in range(1,11)] list comprehension\n",
    "# v = [2,3,4] s = -3 l= [s* i for i in v] ----> [-6,-9,-12]\n",
    "# l=[i for i in range(0,51,5)] else l = [i for i in range(1,51) if i%5 == 0]\n",
    "l = ['php','java','python','c++']\n",
    "# l = [i for i in l if i.startswith('p')] \n",
    "basket = ['apple','guava','cherry','banana']\n",
    "fruits = ['apple','kiwi','grapes','banana']\n",
    "mew = [i for i in fruits if i in basket if i.startswith('a')]\n",
    "print(mew)"
   ]
  },
  {
   "cell_type": "code",
   "execution_count": 1,
   "metadata": {},
   "outputs": [
    {
     "name": "stdout",
     "output_type": "stream",
     "text": [
      "Enter message : This is python\n",
      "Enter the key : 3\n",
      "Tssyoh  tniiph"
     ]
    }
   ],
   "source": [
    "message = input(\"Enter message : \")\n",
    "key = int(input(\"Enter the key : \"))\n",
    "length = len(message)\n",
    "for i in range(key):\n",
    "    for j in message[i:length:key]:\n",
    "        print(j,end='')"
   ]
  },
  {
   "cell_type": "code",
   "execution_count": null,
   "metadata": {},
   "outputs": [],
   "source": [
    "msg = input()\n",
    "key = int(input())\n",
    "encrt = ''\n",
    "for i in range(key):\n",
    "    encrt += msg[i: :key]\n",
    "print(encrt)"
   ]
  },
  {
   "cell_type": "code",
   "execution_count": null,
   "metadata": {},
   "outputs": [],
   "source": []
  }
 ],
 "metadata": {
  "kernelspec": {
   "display_name": "Python 3",
   "language": "python",
   "name": "python3"
  },
  "language_info": {
   "codemirror_mode": {
    "name": "ipython",
    "version": 3
   },
   "file_extension": ".py",
   "mimetype": "text/x-python",
   "name": "python",
   "nbconvert_exporter": "python",
   "pygments_lexer": "ipython3",
   "version": "3.8.5"
  }
 },
 "nbformat": 4,
 "nbformat_minor": 4
}
