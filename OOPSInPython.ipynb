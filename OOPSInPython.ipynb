{
 "cells": [
  {
   "cell_type": "code",
   "execution_count": 8,
   "metadata": {},
   "outputs": [
    {
     "name": "stdout",
     "output_type": "stream",
     "text": [
      "HI\n",
      "RealMe\n"
     ]
    }
   ],
   "source": [
    "# a = eval(input(\"\")) 1,2B,C this will give SyntaxError at runtime\n",
    "# Can't access class directly we have to access it by making object\n",
    "# Class is a blueprint of objects\n",
    "# Class does not occupy any memory\n",
    "# Class is always encapsulated\n",
    "# First method always constructor if not make it will make default which will not work anything\n",
    "# method in class is a function\n",
    "# l = [1,2,3]\n",
    "# len(l) object inside a function len() does not support integers\n",
    "# l.append() this is a method of list\n",
    "# init means initialization\n",
    "# __ __ this is known as dunder method or magic method\n",
    "# __init__ is is used for making constructor\n",
    "# if i want to access anything in method we have to access it through self\n",
    "# it is kind of entry gate for anything in the method of a class\n",
    "# if self not given it will not have any access to any of it's method \n",
    "# every object remembers its properties\n",
    "# self remembers all the location of variables, functions and all it's address\n",
    "# when i make any object self will put that thing inplace of self\n",
    "# this will work as : \n",
    "#       Mobile.__init__(A)   just list : def A ():   A(1)    Mobile.show(A)\n",
    "# that i have made an object A through which class Mobile can be accessed whose access is given to A through self.\n",
    "# self is an instance variable which whenever i am making a class this self exist it remembers everything's location\n",
    "# that if i have made then made using whose reference, if made without self it will be created but they will be local.\n",
    "# but if i want to access all the data it can be access through self. Object created it will take place of self\n",
    "# for making object we use self\n",
    "class Mobile:\n",
    "    def __init__(self):\n",
    "        self.name = 'RealMe'\n",
    "    def show(self):\n",
    "        print(self.name)\n",
    "A = Mobile()\n",
    "A.show() #I am calling the method of Mobile class\n",
    "# You have to pass all the arguments except self in the above\n",
    "# a = 5 b = 5 both's id will be same as they both point towards the same thing\n",
    "# both the object are different but they are pointing to one things\n",
    "# objects are mutuable : i can change it's properties as i am able to change it's variables\n",
    "# numbers, string and tupes are not mutuable so it will not change it's value\n",
    "# constructer gives reference\n",
    "# for init method self is compulsory\n",
    "# self through the variables they are called instance variables \n",
    "# class variables when changed through class it will changed for the whole class\n",
    "# if variables when changed in a method then it will only be changed in that method not in the whole class\n",
    "# it will not use self to change that variable"
   ]
  },
  {
   "cell_type": "code",
   "execution_count": 9,
   "metadata": {},
   "outputs": [
    {
     "name": "stdout",
     "output_type": "stream",
     "text": [
      "This is a demo\n"
     ]
    }
   ],
   "source": [
    "class Assignment:\n",
    "    def is__done(self):\n",
    "        print('This is a demo')\n",
    "new = Assignment()\n",
    "new.is__done()"
   ]
  },
  {
   "cell_type": "code",
   "execution_count": 42,
   "metadata": {},
   "outputs": [
    {
     "name": "stdout",
     "output_type": "stream",
     "text": [
      "HI\n",
      "Del\n"
     ]
    }
   ],
   "source": [
    "class Computer:\n",
    "    def __init__(self):\n",
    "        print(\"HI\")\n",
    "    def __del__(self):\n",
    "        print(\"Del\")\n",
    "#         I am deleting the object that i have made this is known as deconstructor\n",
    "# Whenever i am deleting then the de\n",
    "obj = Computer()\n",
    "del obj\n",
    "# print(obj) Now this will give NameError as this object is deleted"
   ]
  },
  {
   "cell_type": "code",
   "execution_count": 51,
   "metadata": {},
   "outputs": [
    {
     "name": "stdout",
     "output_type": "stream",
     "text": [
      "Created O\n",
      "Computer Created\n",
      "Hi\n",
      "Function Ends\n",
      "Destroyed\n",
      "None\n"
     ]
    }
   ],
   "source": [
    "class Computer:\n",
    "    def __init__(self):\n",
    "        print(\"Computer Created\")\n",
    "#         self.show : This is used \n",
    "    def show(self):\n",
    "        print(\"Hi\")\n",
    "    def __del__(self):\n",
    "        print(\"Destroyed\")\n",
    "def create__obj(object):\n",
    "    print(\"Created O\")\n",
    "    object = Computer()\n",
    "    object.show()\n",
    "    print(\"Function Ends\")\n",
    "# when we don't return it will destroyed itself as it is called inside a function so when the function ends it will be \n",
    "# destroyed itself\n",
    "#     del object\n",
    "#     return object\n",
    "h = create__obj('O')\n",
    "print(h)"
   ]
  },
  {
   "cell_type": "code",
   "execution_count": 55,
   "metadata": {},
   "outputs": [
    {
     "name": "stdout",
     "output_type": "stream",
     "text": [
      "2196342895568\n",
      "2196344666864\n",
      "123456\n",
      "\n"
     ]
    }
   ],
   "source": [
    "class ATM:\n",
    "    def __init__(self):\n",
    "        self.pin = ''\n",
    "        self.balance = 0\n",
    "        print(id(self))\n",
    "obj = ATM()\n",
    "obj1 = ATM()\n",
    "obj2 = obj1\n",
    "obj2.pin = '123456'\n",
    "print(obj1.pin)\n",
    "print(obj.pin)\n",
    "# Every object has it's own properties\n",
    "# class's value cannot be changed"
   ]
  },
  {
   "cell_type": "code",
   "execution_count": 61,
   "metadata": {},
   "outputs": [
    {
     "name": "stdout",
     "output_type": "stream",
     "text": [
      "Welcome to ATM \n",
      " Press 1 to create pin \n",
      " Press 2 to change pin \n",
      " Press 3 to check balance\n",
      "Press 4 to withdraw money.\n"
     ]
    },
    {
     "ename": "KeyboardInterrupt",
     "evalue": "Interrupted by user",
     "output_type": "error",
     "traceback": [
      "\u001b[1;31m---------------------------------------------------------------------------\u001b[0m",
      "\u001b[1;31mKeyboardInterrupt\u001b[0m                         Traceback (most recent call last)",
      "\u001b[1;32m<ipython-input-61-bef4f22c8f96>\u001b[0m in \u001b[0;36m<module>\u001b[1;34m\u001b[0m\n\u001b[0;32m     53\u001b[0m             \u001b[0mprint\u001b[0m\u001b[1;33m(\u001b[0m\u001b[1;34m\"Enter valid pin\"\u001b[0m\u001b[1;33m)\u001b[0m\u001b[1;33m\u001b[0m\u001b[1;33m\u001b[0m\u001b[0m\n\u001b[0;32m     54\u001b[0m             \u001b[0mself\u001b[0m\u001b[1;33m.\u001b[0m\u001b[0mwithdraw\u001b[0m\u001b[1;33m(\u001b[0m\u001b[1;33m)\u001b[0m\u001b[1;33m\u001b[0m\u001b[1;33m\u001b[0m\u001b[0m\n\u001b[1;32m---> 55\u001b[1;33m \u001b[0ma\u001b[0m \u001b[1;33m=\u001b[0m \u001b[0mATM\u001b[0m\u001b[1;33m(\u001b[0m\u001b[1;33m)\u001b[0m\u001b[1;33m\u001b[0m\u001b[1;33m\u001b[0m\u001b[0m\n\u001b[0m",
      "\u001b[1;32m<ipython-input-61-bef4f22c8f96>\u001b[0m in \u001b[0;36m__init__\u001b[1;34m(self)\u001b[0m\n\u001b[0;32m      4\u001b[0m         \u001b[0mself\u001b[0m\u001b[1;33m.\u001b[0m\u001b[0mbalance\u001b[0m \u001b[1;33m=\u001b[0m \u001b[1;36m5000\u001b[0m\u001b[1;33m\u001b[0m\u001b[1;33m\u001b[0m\u001b[0m\n\u001b[0;32m      5\u001b[0m         \u001b[0mself\u001b[0m\u001b[1;33m.\u001b[0m\u001b[0mpin\u001b[0m \u001b[1;33m=\u001b[0m \u001b[1;34m''\u001b[0m\u001b[1;33m\u001b[0m\u001b[1;33m\u001b[0m\u001b[0m\n\u001b[1;32m----> 6\u001b[1;33m         \u001b[0mself\u001b[0m\u001b[1;33m.\u001b[0m\u001b[0mshow\u001b[0m\u001b[1;33m(\u001b[0m\u001b[1;33m)\u001b[0m\u001b[1;33m\u001b[0m\u001b[1;33m\u001b[0m\u001b[0m\n\u001b[0m\u001b[0;32m      7\u001b[0m     \u001b[1;32mdef\u001b[0m \u001b[0mshow\u001b[0m\u001b[1;33m(\u001b[0m\u001b[0mself\u001b[0m\u001b[1;33m)\u001b[0m\u001b[1;33m:\u001b[0m\u001b[1;33m\u001b[0m\u001b[1;33m\u001b[0m\u001b[0m\n\u001b[0;32m      8\u001b[0m         \u001b[0mprint\u001b[0m\u001b[1;33m(\u001b[0m\u001b[1;34m'Welcome to ATM \\n Press 1 to create pin \\n Press 2 to change pin \\n Press 3 to check balance'\u001b[0m\u001b[1;33m)\u001b[0m\u001b[1;33m\u001b[0m\u001b[1;33m\u001b[0m\u001b[0m\n",
      "\u001b[1;32m<ipython-input-61-bef4f22c8f96>\u001b[0m in \u001b[0;36mshow\u001b[1;34m(self)\u001b[0m\n\u001b[0;32m      8\u001b[0m         \u001b[0mprint\u001b[0m\u001b[1;33m(\u001b[0m\u001b[1;34m'Welcome to ATM \\n Press 1 to create pin \\n Press 2 to change pin \\n Press 3 to check balance'\u001b[0m\u001b[1;33m)\u001b[0m\u001b[1;33m\u001b[0m\u001b[1;33m\u001b[0m\u001b[0m\n\u001b[0;32m      9\u001b[0m         \u001b[0mprint\u001b[0m\u001b[1;33m(\u001b[0m\u001b[1;34m\"Press 4 to withdraw money.\"\u001b[0m\u001b[1;33m)\u001b[0m\u001b[1;33m\u001b[0m\u001b[1;33m\u001b[0m\u001b[0m\n\u001b[1;32m---> 10\u001b[1;33m         \u001b[0mvalue\u001b[0m \u001b[1;33m=\u001b[0m \u001b[0mint\u001b[0m\u001b[1;33m(\u001b[0m\u001b[0minput\u001b[0m\u001b[1;33m(\u001b[0m\u001b[1;34m\"Enter value : \"\u001b[0m\u001b[1;33m)\u001b[0m\u001b[1;33m)\u001b[0m\u001b[1;33m\u001b[0m\u001b[1;33m\u001b[0m\u001b[0m\n\u001b[0m\u001b[0;32m     11\u001b[0m         \u001b[1;32mif\u001b[0m\u001b[1;33m(\u001b[0m\u001b[0mvalue\u001b[0m \u001b[1;33m==\u001b[0m \u001b[1;36m1\u001b[0m\u001b[1;33m)\u001b[0m\u001b[1;33m:\u001b[0m\u001b[1;33m\u001b[0m\u001b[1;33m\u001b[0m\u001b[0m\n\u001b[0;32m     12\u001b[0m             \u001b[0mself\u001b[0m\u001b[1;33m.\u001b[0m\u001b[0mcreatingPin\u001b[0m\u001b[1;33m(\u001b[0m\u001b[1;33m)\u001b[0m\u001b[1;33m\u001b[0m\u001b[1;33m\u001b[0m\u001b[0m\n",
      "\u001b[1;32mC:\\ProgramData\\Anaconda3\\lib\\site-packages\\ipykernel\\kernelbase.py\u001b[0m in \u001b[0;36mraw_input\u001b[1;34m(self, prompt)\u001b[0m\n\u001b[0;32m    858\u001b[0m                 \u001b[1;34m\"raw_input was called, but this frontend does not support input requests.\"\u001b[0m\u001b[1;33m\u001b[0m\u001b[1;33m\u001b[0m\u001b[0m\n\u001b[0;32m    859\u001b[0m             )\n\u001b[1;32m--> 860\u001b[1;33m         return self._input_request(str(prompt),\n\u001b[0m\u001b[0;32m    861\u001b[0m             \u001b[0mself\u001b[0m\u001b[1;33m.\u001b[0m\u001b[0m_parent_ident\u001b[0m\u001b[1;33m,\u001b[0m\u001b[1;33m\u001b[0m\u001b[1;33m\u001b[0m\u001b[0m\n\u001b[0;32m    862\u001b[0m             \u001b[0mself\u001b[0m\u001b[1;33m.\u001b[0m\u001b[0m_parent_header\u001b[0m\u001b[1;33m,\u001b[0m\u001b[1;33m\u001b[0m\u001b[1;33m\u001b[0m\u001b[0m\n",
      "\u001b[1;32mC:\\ProgramData\\Anaconda3\\lib\\site-packages\\ipykernel\\kernelbase.py\u001b[0m in \u001b[0;36m_input_request\u001b[1;34m(self, prompt, ident, parent, password)\u001b[0m\n\u001b[0;32m    902\u001b[0m             \u001b[1;32mexcept\u001b[0m \u001b[0mKeyboardInterrupt\u001b[0m\u001b[1;33m:\u001b[0m\u001b[1;33m\u001b[0m\u001b[1;33m\u001b[0m\u001b[0m\n\u001b[0;32m    903\u001b[0m                 \u001b[1;31m# re-raise KeyboardInterrupt, to truncate traceback\u001b[0m\u001b[1;33m\u001b[0m\u001b[1;33m\u001b[0m\u001b[1;33m\u001b[0m\u001b[0m\n\u001b[1;32m--> 904\u001b[1;33m                 \u001b[1;32mraise\u001b[0m \u001b[0mKeyboardInterrupt\u001b[0m\u001b[1;33m(\u001b[0m\u001b[1;34m\"Interrupted by user\"\u001b[0m\u001b[1;33m)\u001b[0m \u001b[1;32mfrom\u001b[0m \u001b[1;32mNone\u001b[0m\u001b[1;33m\u001b[0m\u001b[1;33m\u001b[0m\u001b[0m\n\u001b[0m\u001b[0;32m    905\u001b[0m             \u001b[1;32mexcept\u001b[0m \u001b[0mException\u001b[0m \u001b[1;32mas\u001b[0m \u001b[0me\u001b[0m\u001b[1;33m:\u001b[0m\u001b[1;33m\u001b[0m\u001b[1;33m\u001b[0m\u001b[0m\n\u001b[0;32m    906\u001b[0m                 \u001b[0mself\u001b[0m\u001b[1;33m.\u001b[0m\u001b[0mlog\u001b[0m\u001b[1;33m.\u001b[0m\u001b[0mwarning\u001b[0m\u001b[1;33m(\u001b[0m\u001b[1;34m\"Invalid Message:\"\u001b[0m\u001b[1;33m,\u001b[0m \u001b[0mexc_info\u001b[0m\u001b[1;33m=\u001b[0m\u001b[1;32mTrue\u001b[0m\u001b[1;33m)\u001b[0m\u001b[1;33m\u001b[0m\u001b[1;33m\u001b[0m\u001b[0m\n",
      "\u001b[1;31mKeyboardInterrupt\u001b[0m: Interrupted by user"
     ]
    }
   ],
   "source": [
    "# Create Pin, Change Pin, Check balance, Withdraw:\n",
    "class ATM:\n",
    "    def __init__(self):\n",
    "        self.balance = 5000\n",
    "        self.pin = ''\n",
    "        self.show()\n",
    "    def show(self):\n",
    "        print('Welcome to ATM \\n Press 1 to create pin \\n Press 2 to change pin \\n Press 3 to check balance')\n",
    "        print(\"Press 4 to withdraw money.\")\n",
    "        value = int(input(\"Enter value : \"))\n",
    "        if(value == 1):\n",
    "            self.creatingPin()\n",
    "        elif(value == 2):\n",
    "            if(self.pin == ''):\n",
    "                self.creatingPin()\n",
    "            else:\n",
    "                checking = int(input(\"Enter your pin : \"))\n",
    "                if(checking == self.pin):\n",
    "                    changepin = int(input(\"Enter the pin you want to reset : \"))\n",
    "                    self.pin = changepin\n",
    "                    self.show()\n",
    "        elif(value == 3):\n",
    "            if(self.pin == ''):\n",
    "                self.creatingPin()\n",
    "            else:\n",
    "                self.showBalance()\n",
    "        elif(value == 4):\n",
    "            if(self.pin == ''):\n",
    "                self.creatingPin()\n",
    "            else:\n",
    "                self.withdraw()\n",
    "    def creatingPin(self):\n",
    "        fpin = int(input(\"Enter the pin you want to set : \"))\n",
    "        self.pin = fpin\n",
    "        print(\"Your pin is created : \", self.pin)\n",
    "        self.show()\n",
    "    def showBalance(self):\n",
    "        checkBalance = int(input(\"Enter your pin to check your balance : \"))\n",
    "        if(checkBalance == self.pin):\n",
    "            print(self.balance)\n",
    "            print()\n",
    "            self.show()\n",
    "        else:\n",
    "            print(\"Enter valid pin\")\n",
    "            self.showBalance()\n",
    "    def withdraw(self, money):\n",
    "        checkWithdraw = int(input(\"Enter your pin to withdraw money : \"))\n",
    "        if(checkWithdraw == self.pin):\n",
    "            money = int(input(\"Enter the amount you want to withdraw : \"))\n",
    "            if(money > self.balance):\n",
    "                print(\"Insufficient Balance\")\n",
    "                self.show()\n",
    "            else:\n",
    "                self.balance = self.balance - money\n",
    "                print(\"Your current balance is : \", self.balance)\n",
    "                print()\n",
    "                self.show()\n",
    "        else:\n",
    "            print(\"Enter valid pin\")\n",
    "            self.withdraw()\n",
    "a = ATM()\n"
   ]
  },
  {
   "cell_type": "code",
   "execution_count": 4,
   "metadata": {},
   "outputs": [
    {
     "name": "stdout",
     "output_type": "stream",
     "text": [
      "This is a method\n"
     ]
    }
   ],
   "source": [
    "class Scale:\n",
    "    @staticmethod # this is a decorator which is used to make a method static\n",
    "    def hello():\n",
    "        print(\"This is a method\")\n",
    "a = Scale()\n",
    "a.hello()"
   ]
  },
  {
   "cell_type": "code",
   "execution_count": 6,
   "metadata": {},
   "outputs": [
    {
     "name": "stdout",
     "output_type": "stream",
     "text": [
      "pqr\n",
      "152\n",
      "True\n",
      "pqr\n"
     ]
    }
   ],
   "source": [
    "class emp:\n",
    "    name = 'ABC'\n",
    "    salary = 23444\n",
    "    def show(self):\n",
    "        print(self.name)\n",
    "        print(self.salary)\n",
    "e1 = emp()\n",
    "emp.name = 'pqr'\n",
    "print(getattr(e1, 'name'))\n",
    "setattr(e1,'height',152)\n",
    "print(getattr(e1,'height'))\n",
    "delattr(emp,'salary')\n",
    "# delattr(e1,'salary') : that's why this will give error\n",
    "# object through we cannot delete a variable\n",
    "print(hasattr(e1,'name'))\n",
    "e2 = emp()\n",
    "e1.name = 'XYZ'\n",
    "print(e2.name)"
   ]
  }
 ],
 "metadata": {
  "kernelspec": {
   "display_name": "Python 3",
   "language": "python",
   "name": "python3"
  },
  "language_info": {
   "codemirror_mode": {
    "name": "ipython",
    "version": 3
   },
   "file_extension": ".py",
   "mimetype": "text/x-python",
   "name": "python",
   "nbconvert_exporter": "python",
   "pygments_lexer": "ipython3",
   "version": "3.8.5"
  }
 },
 "nbformat": 4,
 "nbformat_minor": 4
}
