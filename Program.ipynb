{
 "cells": [
  {
   "cell_type": "code",
   "execution_count": null,
   "metadata": {},
   "outputs": [],
   "source": [
    "str = input(\"Enter encoded string : \")\n",
    "key = int(input(\"Enter the key used for encoding : \"))\n",
    "decode = ['' for i in range(len(str))]\n",
    "temp = 0\n",
    "for i in range (key):\n",
    "    for j in range(i, len(str), key):\n",
    "        decode[j] = str[temp]\n",
    "        temp += 1\n",
    "    print(decode)\n",
    "result = ''.join(decode)\n",
    "print(result)"
   ]
  },
  {
   "cell_type": "code",
   "execution_count": null,
   "metadata": {},
   "outputs": [],
   "source": [
    "name = input(\"Enter encoded string : \")\n",
    "key = int(input(\"Enter the key used for encoding : \"))\n",
    "length = len(name)\n",
    "loop = length%key\n",
    "for i in range(1,key):\n",
    "    update = name[0:3]\n",
    "    name = name[3: ]\n",
    "    "
   ]
  },
  {
   "cell_type": "code",
   "execution_count": 32,
   "metadata": {},
   "outputs": [
    {
     "name": "stdout",
     "output_type": "stream",
     "text": [
      "[[1, 4, 7], [2, 5, 8], [3, 6, 9]]\n"
     ]
    }
   ],
   "source": [
    "# WAP to rotate n x n matrix 90 degree in a clock wise direction without using any other list.\n",
    "# inp = eval(input(\"Enter list : \"))\n",
    "li = [[1,2,3],[4,5,6],[7,8,9]]\n",
    "for i in range(len(li)):\n",
    "    for j in range(i,len(li)):\n",
    "        li[i][j], li[j][i] = li[j][i] , li[i][j]\n",
    "print(li)"
   ]
  },
  {
   "cell_type": "code",
   "execution_count": 31,
   "metadata": {},
   "outputs": [
    {
     "name": "stdout",
     "output_type": "stream",
     "text": [
      "[[1, 4, 7], [2, 5, 8], [3, 6, 9]]\n",
      "[[7, 4, 1], [8, 5, 2], [9, 6, 3]]\n"
     ]
    }
   ],
   "source": [
    "li = [[1,2,3],[4,5,6],[7,8,9]]\n",
    "for i in range(len(li)):\n",
    "    for j in range(i,len(li)):\n",
    "        li[i][j], li[j][i] = li[j][i] , li[i][j]\n",
    "print(li)\n",
    "for i in range(len(li)):\n",
    "    li[i].reverse()\n",
    "print(li)"
   ]
  },
  {
   "cell_type": "code",
   "execution_count": 34,
   "metadata": {},
   "outputs": [
    {
     "name": "stdout",
     "output_type": "stream",
     "text": [
      "[[1, 4, 7], [2, 5, 8], [3, 6, 9]]\n"
     ]
    }
   ],
   "source": [
    "l = [[1,2,3],[4,5,6],[7,8,9]]\n",
    "for i in range(len(li)):\n",
    "    for j in range(i,len(li)):\n",
    "        if(i == j):\n",
    "            l[i][j] = l[i][j]\n",
    "        else:\n",
    "            store = l[i][j]\n",
    "            l[i][j] = l[j][i]\n",
    "            l[j][i] = store\n",
    "print(l)"
   ]
  }
 ],
 "metadata": {
  "kernelspec": {
   "display_name": "Python 3",
   "language": "python",
   "name": "python3"
  },
  "language_info": {
   "codemirror_mode": {
    "name": "ipython",
    "version": 3
   },
   "file_extension": ".py",
   "mimetype": "text/x-python",
   "name": "python",
   "nbconvert_exporter": "python",
   "pygments_lexer": "ipython3",
   "version": "3.8.5"
  }
 },
 "nbformat": 4,
 "nbformat_minor": 4
}
