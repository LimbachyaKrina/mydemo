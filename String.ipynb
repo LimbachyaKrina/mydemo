{
 "cells": [
  {
   "cell_type": "code",
   "execution_count": 1,
   "metadata": {},
   "outputs": [],
   "source": [
    "s='hello'\n",
    "# print(s[30]) Error: out of range\n",
    "# print(s[5:30]) This will never give an error\n",
    "# print(s[i:i+1])\n",
    "# print(s[-2:-5]) Blank, as loop will never be executed\n",
    "# print(s[-2:-5:-1])\n",
    "# print(s[ : :-1]) Reverse the string\n",
    "# print(s[ : :])\n",
    "# print(s[ :-1]) This will print hell as it has default starting and ending is -1 so it will print all exclude -1 position\n",
    "# print(s[ : :2]) This will go till last index so it will print HLO\n",
    "# print(s[-2: : ]) len(s) to step size will be default 1"
   ]
  },
  {
   "cell_type": "code",
   "execution_count": 5,
   "metadata": {},
   "outputs": [],
   "source": [
    "s=\"hello\"\n",
    "# del s \n",
    "# print(s) Now this will give name error as that variable is deleted \n",
    "# print (s*4) This will print the string the number of times we have multiplied it \n",
    "# print('delhi' > 'delhis') False it will compare \n",
    "# print('Apples' < 'apple') True it will be stop at the first one only\n",
    "# for i in s --- we can directly loop from starting to ending in string\n",
    "# for i,j in enumerate(s) it will extract the letter as well as the num of index at which the character is \n",
    "#     print(i,j)\n",
    "# print('h' in 'hello') this will give output in the form of boolean expression if present true else false\n",
    "# print('hl' in 'hello') this will give false as both the values are not together\n",
    "# print('H' in 'hello') this will give false as it is a case sensitive language"
   ]
  },
  {
   "cell_type": "code",
   "execution_count": 22,
   "metadata": {},
   "outputs": [],
   "source": [
    "s='HEllo '\n",
    "# len print(len(s)) 5\n",
    "# max print(max(s)) o\n",
    "# min print(min(s)) _ (space)\n",
    "# sorted [it will give answer always in list] \n",
    "# print(sorted (s)) [' ','e','h','l','l','o']\n",
    "# print(sorted (s,reverse=True)) the reverse of the string\n",
    "# print(s.capitalize()) Method will convert the string in sentence case This is a method of capitalize \n",
    "# print(s.title()) Each word's 1st character will be capital this is method of str\n",
    "# print(s.lower()) \n",
    "# print(s.upper())\n",
    "# print(s.swapcase()) it will swap the original case of the string\n",
    "# print(s.count('is')) 2 for This is python if that substring is not present then it will give 0 \n",
    "# print(s.count('is',5,len(s)) \n",
    "# print(s.rfind('is')) find last occurance range given\n",
    "# print(s.find('is')) this will give the first occurance  range can be given \n",
    "# if that substring not present then it will give -1\n",
    "# print(s.index('in')) this will give error if not present in the string range can be given\n",
    "# print(s.startswith('th'))\n",
    "# print(s.endswith('on'))\n",
    "# print(s.isalnum()) are there alphabet or number will check and give true if there is space then false\n",
    "# print(s.isalpha()) check only alphabet and give true\n",
    "# print(s.islower()) if there are alphabet present then it will check that those alphabets are in lower case or not \n",
    "# and if there are no alphabet in the string it will give false\n",
    "# print(s.isdigit()) will check only digit, if there are alphabet or both it will give false\n",
    "# print(s.isspace()) check if the string is \" \" or not. false is the string is not empty\n",
    "# print(s.istitle()) this will give true only if all the first letter of word is capital or else it will give false\n",
    "# print(s.isidentifier()) will check if all the rules of identifier are followed or not also if there is a keyword written\n",
    "# it will give true. It will only check the rules to be followed\n",
    "# print('C'.join(s)) it will print hCeClClCo\n",
    "# print(' '.joint(['this','is','python'])) will print This is python when we have list and we want to concate it a string\n",
    "# print(s.split()) according to words or according to sentence. If not given anything then it will separate according \n",
    "# to space. this method will give answer in the form of list\n",
    "# print(\"is\".split(\"is\")) ---> ['this',' ',' a python class']"
   ]
  },
  {
   "cell_type": "code",
   "execution_count": 27,
   "metadata": {},
   "outputs": [
    {
     "name": "stdout",
     "output_type": "stream",
     "text": [
      "Krin@ 2004\n",
      "Password is correct\n"
     ]
    }
   ],
   "source": [
    "# WAP to create a password checker for the given rules :\n",
    "# 1. lowercase,  uppercase, digit, special character, between 8 to 16\n",
    "s=input()\n",
    "lcount,ucount,dcount,scount,spcount=0,0,0,0,0\n",
    "if(len(s)>7 and len(s)<17):\n",
    "    for i in s:\n",
    "        if(i.islower()):\n",
    "            lcount +=1\n",
    "        elif(i.isupper()):\n",
    "            ucount +=1\n",
    "        elif(i.isdigit()):\n",
    "            dcount += 1\n",
    "        elif(i.isspace()):\n",
    "            spcount +=1\n",
    "        else:\n",
    "            scount+=1\n",
    "else:\n",
    "    print(\"Invalid\")\n",
    "if(lcount>0 and ucount>0 and dcount>0 and scount>0 and spcount>0):\n",
    "    print(\"Password is correct\")\n",
    "else:\n",
    "    print(\"Invalid\")"
   ]
  }
 ],
 "metadata": {
  "kernelspec": {
   "display_name": "Python 3",
   "language": "python",
   "name": "python3"
  },
  "language_info": {
   "codemirror_mode": {
    "name": "ipython",
    "version": 3
   },
   "file_extension": ".py",
   "mimetype": "text/x-python",
   "name": "python",
   "nbconvert_exporter": "python",
   "pygments_lexer": "ipython3",
   "version": "3.8.5"
  }
 },
 "nbformat": 4,
 "nbformat_minor": 4
}
